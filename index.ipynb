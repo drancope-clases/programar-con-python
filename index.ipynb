{
 "cells": [
  {
   "cell_type": "code",
   "execution_count": 1,
   "id": "018b6355",
   "metadata": {
    "cellView": "form",
    "colab": {
     "base_uri": "https://localhost:8080/",
     "height": 173
    },
    "id": "018b6355",
    "outputId": "9d531666-f248-426a-d09a-116371a82c31"
   },
   "outputs": [
    {
     "data": {
      "text/html": [
       "<script>\n",
       "code_show=false;\n",
       "\n",
       "function code_toggle() {\n",
       " if (code_show){\n",
       " $('div.input').hide();\n",
       " } else {\n",
       " $('div.input').show();\n",
       " }\n",
       " code_show = !code_show\n",
       "} \n",
       "$( document ).ready(code_toggle);\n",
       "</script>\n",
       "<img src=\"https://definicion.de/wp-content/uploads/2009/04/alerta.jpg\" onload=\"javascript:code_toggle()\" width=\"100\" height=\"132\">\n",
       "El código de este notebook está escondido para que se lea mejor.\n",
       "<form action=\"javascript:code_toggle()\"><input type=\"submit\" value=\"Haz Click para mostrar/ocultar.\"></form>"
      ],
      "text/plain": [
       "<IPython.core.display.HTML object>"
      ]
     },
     "execution_count": 1,
     "metadata": {},
     "output_type": "execute_result"
    }
   ],
   "source": [
    "#@title\n",
    "from IPython.display import HTML\n",
    "\n",
    "HTML('''<script>\n",
    "code_show=false;\n",
    "\n",
    "function code_toggle() {\n",
    " if (code_show){\n",
    " $('div.input').hide();\n",
    " } else {\n",
    " $('div.input').show();\n",
    " }\n",
    " code_show = !code_show\n",
    "} \n",
    "$( document ).ready(code_toggle);\n",
    "</script>\n",
    "<img src=\"https://definicion.de/wp-content/uploads/2009/04/alerta.jpg\" onload=\"javascript:code_toggle()\" width=\"100\" height=\"132\">\n",
    "El código de este notebook está escondido para que se lea mejor.\n",
    "<form action=\"javascript:code_toggle()\"><input type=\"submit\" value=\"Haz Click para mostrar/ocultar.\"></form>''')"
   ]
  },
  {
   "cell_type": "code",
   "execution_count": 3,
   "id": "JkofcRBLFU3I",
   "metadata": {
    "cellView": "form",
    "colab": {
     "base_uri": "https://localhost:8080/",
     "height": 39
    },
    "id": "JkofcRBLFU3I",
    "outputId": "4907b47e-5697-49ea-ce54-87cc897ff9fb"
   },
   "outputs": [
    {
     "data": {
      "text/html": [
       "<script>jQuery(function() {if (jQuery(\"body.notebook_app\").length == 0) { jQuery(\"div.input\").toggle();}});</script>"
      ]
     },
     "metadata": {},
     "output_type": "display_data"
    },
    {
     "data": {
      "text/html": [
       "<button onclick=\"jQuery('div.input').toggle();\">Toggle code</button>"
      ]
     },
     "metadata": {},
     "output_type": "display_data"
    }
   ],
   "source": [
    "#@title\n",
    "from IPython.display import display\n",
    "import IPython.core.display as di # Example: di.display_html('<h3>%s:</h3>' % str, raw=True)\n",
    "\n",
    "# This line will hide code by default when the notebook is exported as HTML\n",
    "di.display_html('<script>jQuery(function() {if (jQuery(\"body.notebook_app\").length == 0) { jQuery(\"div.input\").toggle();}});</script>', raw=True)\n",
    "\n",
    "# This line will add a button to toggle visibility of code blocks, for use with the HTML export version\n",
    "di.display_html('''<button onclick=\"jQuery('div.input').toggle();\">Toggle code</button>''', raw=True)\n",
    "\n",
    "di.display_html('<img src=\"alerta.jpg\" onload=\"javascript:code_toggle()\" width=\"100\" height=\"132\">')"
   ]
  },
  {
   "cell_type": "code",
   "execution_count": 4,
   "id": "QMlxz6NfsUyC",
   "metadata": {
    "colab": {
     "base_uri": "https://localhost:8080/",
     "height": 17
    },
    "id": "QMlxz6NfsUyC",
    "outputId": "f39b5c91-aba6-42a1-e0b2-44df3fdb77bb"
   },
   "outputs": [
    {
     "data": {
      "application/javascript": [
       "function mensaje(){\n",
       "    alert(\"Atención: vas a utilizar una tecnología de última generación\");\n",
       "}\n",
       "mensaje();\n"
      ],
      "text/plain": [
       "<IPython.core.display.Javascript object>"
      ]
     },
     "metadata": {},
     "output_type": "display_data"
    }
   ],
   "source": [
    "%%js\n",
    "function mensaje(){\n",
    "    alert(\"Atención: vas a utilizar una tecnología de última generación\");\n",
    "}\n",
    "mensaje();"
   ]
  },
  {
   "cell_type": "markdown",
   "id": "188274f2",
   "metadata": {
    "id": "188274f2"
   },
   "source": [
    "# Python: Primeros pasos\n",
    "\n",
    "Python es un lenguaje muy empleado en la actualidad. Se usa sobre todo para tareas relacionadas con la ciencia, como, por ejemplo, el **análisis de datos** o el **aprendizaje de las máquinas**.\n",
    "### Notebooks\n",
    "Esto que estás manejando es un **notebook**.\n",
    "Contiene bloques de texto, y también bloques de programa, que tienen los símbolos ✅ y un número entre corchetes a la izquierda. Cuando pasas por encima el ratón, se convierte el número en el dibujo \"▶\", y puedes que pulsar en él para hacer que funcione ese bloque.\n"
   ]
  },
  {
   "cell_type": "code",
   "execution_count": 3,
   "id": "f4cbe787",
   "metadata": {
    "id": "f4cbe787"
   },
   "outputs": [],
   "source": [
    "import ipywidgets as widgets"
   ]
  },
  {
   "cell_type": "code",
   "execution_count": 4,
   "id": "JWz1ZFpQ7VbG",
   "metadata": {
    "cellView": "form",
    "colab": {
     "base_uri": "https://localhost:8080/"
    },
    "id": "JWz1ZFpQ7VbG",
    "outputId": "a922222e-479b-4bdc-9003-368980f83192",
    "scrolled": false
   },
   "outputs": [
    {
     "name": "stdout",
     "output_type": "stream",
     "text": [
      "Elige\n"
     ]
    }
   ],
   "source": [
    "#@title ## compilados o interpretados. { run: \"auto\" }\n",
    "#@markdown Los lenguajes de progamación pueden ser compilados o interpretados. ¿De qué tipo es Python?\n",
    "\n",
    "Python_es = 'Elige la opción correcta.' #@param [\"Elige la opción correcta.\", \"Compilado\", \"Interpretado\"]\n",
    "\n",
    "if Python_es == 'Interpretado':\n",
    "  print(\"Correcto\")\n",
    "else:\n",
    "   if Python_es == \"Compilado\":\n",
    "       print(\"No. Es de tipo interpretado. Lo adecuado es buscar las respuestas correctas antes de hacer pruebas al azar.\")\n",
    "   else:\n",
    "       print(\"Elige\")\n"
   ]
  },
  {
   "cell_type": "code",
   "execution_count": 5,
   "id": "2477f2ac",
   "metadata": {
    "colab": {
     "base_uri": "https://localhost:8080/",
     "height": 99,
     "referenced_widgets": [
      "324989f2cc3749549d2fdd9d8892ef52",
      "e7e17af21481488d84191b8aedb8a50f",
      "bbdc80f908074ea58bfdb0a5e1c96bb0"
     ]
    },
    "id": "2477f2ac",
    "outputId": "e64fb833-a3db-498f-8bb2-fe14d17af6d7",
    "scrolled": false
   },
   "outputs": [
    {
     "name": "stdout",
     "output_type": "stream",
     "text": [
      "Los lenguajes de programación pueden ser compilados o interpretados. ¿De qué tipo es Python?\n"
     ]
    },
    {
     "data": {
      "application/vnd.jupyter.widget-view+json": {
       "model_id": "7c4b8e0c1ab5453fba2799c76b936527",
       "version_major": 2,
       "version_minor": 0
      },
      "text/plain": [
       "RadioButtons(description='Python es:', options=('Interpretado', 'Compilado'), value='Interpretado')"
      ]
     },
     "metadata": {},
     "output_type": "display_data"
    },
    {
     "data": {
      "application/vnd.jupyter.widget-view+json": {
       "model_id": "5e8d9e6bb814452188ae4ecf81deb424",
       "version_major": 2,
       "version_minor": 0
      },
      "text/plain": [
       "Button(description='Comprobar', icon='check', style=ButtonStyle(), tooltip='Comprobar')"
      ]
     },
     "metadata": {},
     "output_type": "display_data"
    },
    {
     "name": "stdout",
     "output_type": "stream",
     "text": [
      "Correcto.\n"
     ]
    }
   ],
   "source": [
    "print(\"Los lenguajes de programación pueden ser compilados o interpretados. ¿De qué tipo es Python?\")\n",
    "\n",
    "button = widgets.Button(\n",
    "    description='Comprobar',\n",
    ")\n",
    "\n",
    "radio = widgets.RadioButtons(\n",
    "    options=['Interpretado', 'Compilado'],\n",
    "    value='Interpretado', # Defaults to 'Interpretado'\n",
    ")\n",
    "display(radio, button)\n",
    "\n",
    "def on_button_clicked(b):\n",
    "    if radio.value == \"Interpretado\":\n",
    "        print(\"Correcto.\")\n",
    "    else:\n",
    "        print(\"No. Primero se investiga y luego se responde.\")\n",
    "\n",
    "button.on_click(on_button_clicked)"
   ]
  },
  {
   "cell_type": "code",
   "execution_count": 7,
   "id": "56788619",
   "metadata": {
    "id": "56788619"
   },
   "outputs": [
    {
     "name": "stdout",
     "output_type": "stream",
     "text": [
      "¿Quién es el más tonto de mi casa?\n"
     ]
    },
    {
     "data": {
      "application/vnd.jupyter.widget-view+json": {
       "model_id": "6366802da1b44d43b7c30e3857c0bf1c",
       "version_major": 2,
       "version_minor": 0
      },
      "text/plain": [
       "RadioButtons(options=('Yo', 'Mi hermana'), value='Yo')"
      ]
     },
     "metadata": {},
     "output_type": "display_data"
    },
    {
     "data": {
      "application/vnd.jupyter.widget-view+json": {
       "model_id": "c933649ce9cb43d3b4da4734d6f2d049",
       "version_major": 2,
       "version_minor": 0
      },
      "text/plain": [
       "Button(description='Comprobar', style=ButtonStyle())"
      ]
     },
     "metadata": {},
     "output_type": "display_data"
    }
   ],
   "source": [
    "print(\"¿Quién es el más tonto de mi casa?\")\n",
    "\n",
    "button = widgets.Button(\n",
    "    description='Comprobar',\n",
    ")\n",
    "\n",
    "radio = widgets.RadioButtons(\n",
    "    options=['Yo', 'Mi hermana'],\n",
    ")\n",
    "display(radio, button)\n",
    "\n",
    "def on_button_clicked(b):\n",
    "    if radio.value == \"Yo\":\n",
    "        print(\"Correcto.\")\n",
    "    else:\n",
    "        print(\"Examina mejor tu conciencia.\")\n",
    "\n",
    "button.on_click(on_button_clicked)"
   ]
  },
  {
   "cell_type": "code",
   "execution_count": 9,
   "id": "32a9c238",
   "metadata": {},
   "outputs": [
    {
     "data": {
      "application/vnd.jupyter.widget-view+json": {
       "model_id": "30cab221ce554a98b27009fdd1f047b8",
       "version_major": 2,
       "version_minor": 0
      },
      "text/plain": [
       "IntSlider(value=0)"
      ]
     },
     "metadata": {},
     "output_type": "display_data"
    }
   ],
   "source": [
    "slider = widgets.IntSlider()\n",
    "display(slider)"
   ]
  },
  {
   "cell_type": "code",
   "execution_count": 11,
   "id": "cae72151",
   "metadata": {},
   "outputs": [
    {
     "name": "stdout",
     "output_type": "stream",
     "text": [
      "58\n"
     ]
    }
   ],
   "source": [
    "print(slider.value)"
   ]
  }
 ],
 "metadata": {
  "colab": {
   "collapsed_sections": [],
   "name": "index.ipynb",
   "provenance": []
  },
  "kernelspec": {
   "display_name": "Python 3 (ipykernel)",
   "language": "python",
   "name": "python3"
  },
  "language_info": {
   "codemirror_mode": {
    "name": "ipython",
    "version": 3
   },
   "file_extension": ".py",
   "mimetype": "text/x-python",
   "name": "python",
   "nbconvert_exporter": "python",
   "pygments_lexer": "ipython3",
   "version": "3.9.7"
  },
  "widgets": {
   "application/vnd.jupyter.widget-state+json": {
    "324989f2cc3749549d2fdd9d8892ef52": {
     "model_module": "@jupyter-widgets/controls",
     "model_module_version": "1.5.0",
     "model_name": "RadioButtonsModel",
     "state": {
      "_dom_classes": [],
      "_model_module": "@jupyter-widgets/controls",
      "_model_module_version": "1.5.0",
      "_model_name": "RadioButtonsModel",
      "_options_labels": [
       "pepperoni",
       "pineapple",
       "anchovies"
      ],
      "_view_count": null,
      "_view_module": "@jupyter-widgets/controls",
      "_view_module_version": "1.5.0",
      "_view_name": "RadioButtonsView",
      "description": "Pizza topping:",
      "description_tooltip": null,
      "disabled": false,
      "index": 0,
      "layout": "IPY_MODEL_e7e17af21481488d84191b8aedb8a50f",
      "style": "IPY_MODEL_bbdc80f908074ea58bfdb0a5e1c96bb0"
     }
    },
    "bbdc80f908074ea58bfdb0a5e1c96bb0": {
     "model_module": "@jupyter-widgets/controls",
     "model_module_version": "1.5.0",
     "model_name": "DescriptionStyleModel",
     "state": {
      "_model_module": "@jupyter-widgets/controls",
      "_model_module_version": "1.5.0",
      "_model_name": "DescriptionStyleModel",
      "_view_count": null,
      "_view_module": "@jupyter-widgets/base",
      "_view_module_version": "1.2.0",
      "_view_name": "StyleView",
      "description_width": ""
     }
    },
    "e7e17af21481488d84191b8aedb8a50f": {
     "model_module": "@jupyter-widgets/base",
     "model_module_version": "1.2.0",
     "model_name": "LayoutModel",
     "state": {
      "_model_module": "@jupyter-widgets/base",
      "_model_module_version": "1.2.0",
      "_model_name": "LayoutModel",
      "_view_count": null,
      "_view_module": "@jupyter-widgets/base",
      "_view_module_version": "1.2.0",
      "_view_name": "LayoutView",
      "align_content": null,
      "align_items": null,
      "align_self": null,
      "border": null,
      "bottom": null,
      "display": null,
      "flex": null,
      "flex_flow": null,
      "grid_area": null,
      "grid_auto_columns": null,
      "grid_auto_flow": null,
      "grid_auto_rows": null,
      "grid_column": null,
      "grid_gap": null,
      "grid_row": null,
      "grid_template_areas": null,
      "grid_template_columns": null,
      "grid_template_rows": null,
      "height": null,
      "justify_content": null,
      "justify_items": null,
      "left": null,
      "margin": null,
      "max_height": null,
      "max_width": null,
      "min_height": null,
      "min_width": null,
      "object_fit": null,
      "object_position": null,
      "order": null,
      "overflow": null,
      "overflow_x": null,
      "overflow_y": null,
      "padding": null,
      "right": null,
      "top": null,
      "visibility": null,
      "width": null
     }
    }
   }
  }
 },
 "nbformat": 4,
 "nbformat_minor": 5
}
