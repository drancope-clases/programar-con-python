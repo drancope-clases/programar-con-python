{
 "cells": [
  {
   "cell_type": "markdown",
   "id": "focused-howard",
   "metadata": {},
   "source": [
    "# Listas, tuplas y diccionarios\n",
    "\n",
    "## Listas\n",
    "\n",
    "Una **lista** es una variable que contiene varios datos, de manera ordenada.\n",
    "\n",
    "    colores = [\"rojo\", \"azul\", \"verde\", \"blanco\", \"naranja\", \"morado\", \"amarillo\"]\n",
    "\n",
    "Para acceder a un elemento dentro de la lista, se usa la siguiente notación:\n",
    "\n",
    "    print(colores[5])\n",
    "    \n",
    "El primer elemento de la lista es el número 0, de modo que en nuestra lista de 7 elementos, el último será el número 6, y si intentamos imprimir el elemento colores\\[7\\] tendremos un error.\n",
    "\n",
    "En las listas, podemos editar los contenidos según sea necesario:\n",
    "\n",
    "    colores[5] = \"negro\"\n",
    "\n",
    "### Ejercicio\n",
    "\n",
    "Crea una lista con los días de la semana."
   ]
  },
  {
   "cell_type": "code",
   "execution_count": 3,
   "id": "stunning-equivalent",
   "metadata": {},
   "outputs": [],
   "source": [
    "dias = [\"lunes\",                       ]"
   ]
  },
  {
   "cell_type": "markdown",
   "id": "insured-citizen",
   "metadata": {},
   "source": [
    "Una vez creada la lista, imprime el primer día de la semana:"
   ]
  },
  {
   "cell_type": "code",
   "execution_count": null,
   "id": "compliant-atlanta",
   "metadata": {},
   "outputs": [],
   "source": [
    "print()"
   ]
  },
  {
   "cell_type": "markdown",
   "id": "ambient-pharmacology",
   "metadata": {},
   "source": [
    "El primer elemento de *dias* es \"lunes\". Podemos cambiar manualmente todos los elementos para que la semana empiece por domingo:\n",
    "\n",
    "    dias[0] = \"domingo\"\n",
    "    dias[1] = \"lunes\"\n",
    "\n",
    "Pero esto es tan laborioso que nos costaría menos esfuerzo crear la lista de nuevo:\n",
    "\n",
    "    dias = [\"domingo\", \"lunes\", ... etc]\n",
    "    \n",
    "Sin embargo, es frecuente que estos cambios se tengan que hacer de manera autónoma mediante bucles en un programa. Para ello, comprueba el siguiente ejemplo:\n",
    "\n",
    "    lista = [\"Uno\", \"Dos\", \"Tres\"]\n",
    "    primero = lista[0]\n",
    "    for i in range(3):\n",
    "         if i == 2:\n",
    "             lista[i] = primero\n",
    "         else:\n",
    "             lista[i] = lista[i+1]\n",
    "             \n",
    "    print(lista)\n",
    "\n",
    "Tu tarea ahora será modificar de manera similar la lista **dias** para que el primer elemento sea el domingo, y vayan todos en el orden correcto."
   ]
  },
  {
   "cell_type": "code",
   "execution_count": null,
   "id": "expected-cement",
   "metadata": {},
   "outputs": [],
   "source": [
    "dias = # continúa aquí."
   ]
  }
 ],
 "metadata": {
  "kernelspec": {
   "display_name": "Python 3",
   "language": "python",
   "name": "python3"
  },
  "language_info": {
   "codemirror_mode": {
    "name": "ipython",
    "version": 3
   },
   "file_extension": ".py",
   "mimetype": "text/x-python",
   "name": "python",
   "nbconvert_exporter": "python",
   "pygments_lexer": "ipython3",
   "version": "3.8.8"
  }
 },
 "nbformat": 4,
 "nbformat_minor": 5
}
