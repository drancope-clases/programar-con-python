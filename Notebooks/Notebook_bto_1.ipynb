{
 "cells": [
  {
   "cell_type": "code",
   "execution_count": 33,
   "id": "7040d9ae",
   "metadata": {},
   "outputs": [],
   "source": [
    "import pandas as pd\n",
    "import matplotlib.pyplot as plt\n",
    "\n",
    "df = pd.read_csv('data.csv')\n"
   ]
  },
  {
   "cell_type": "markdown",
   "id": "6bc91e2f",
   "metadata": {},
   "source": [
    "## dar nombres a las columnas.\n",
    "Si no indicamos nada, la primera fila de datos se convierte en nombres de columna (en modo texto)"
   ]
  },
  {
   "cell_type": "code",
   "execution_count": 31,
   "id": "c10ec25b",
   "metadata": {},
   "outputs": [
    {
     "data": {
      "text/html": [
       "<div>\n",
       "<style scoped>\n",
       "    .dataframe tbody tr th:only-of-type {\n",
       "        vertical-align: middle;\n",
       "    }\n",
       "\n",
       "    .dataframe tbody tr th {\n",
       "        vertical-align: top;\n",
       "    }\n",
       "\n",
       "    .dataframe thead th {\n",
       "        text-align: right;\n",
       "    }\n",
       "</style>\n",
       "<table border=\"1\" class=\"dataframe\">\n",
       "  <thead>\n",
       "    <tr style=\"text-align: right;\">\n",
       "      <th></th>\n",
       "      <th>\"2022-02-06T16:37:15.711Z\"</th>\n",
       "      <th>23.00</th>\n",
       "      <th>35.00</th>\n",
       "    </tr>\n",
       "  </thead>\n",
       "  <tbody>\n",
       "    <tr>\n",
       "      <th>0</th>\n",
       "      <td>\"2022-02-06T16:41:05.533Z\"</td>\n",
       "      <td>23.0</td>\n",
       "      <td>35.0</td>\n",
       "    </tr>\n",
       "    <tr>\n",
       "      <th>1</th>\n",
       "      <td>\"2022-02-06T16:47:08.500Z\"</td>\n",
       "      <td>23.0</td>\n",
       "      <td>35.0</td>\n",
       "    </tr>\n",
       "    <tr>\n",
       "      <th>2</th>\n",
       "      <td>\"2022-02-06T16:50:08.318Z\"</td>\n",
       "      <td>23.0</td>\n",
       "      <td>35.0</td>\n",
       "    </tr>\n",
       "  </tbody>\n",
       "</table>\n",
       "</div>"
      ],
      "text/plain": [
       "   \"2022-02-06T16:37:15.711Z\"  23.00  35.00\n",
       "0  \"2022-02-06T16:41:05.533Z\"   23.0   35.0\n",
       "1  \"2022-02-06T16:47:08.500Z\"   23.0   35.0\n",
       "2  \"2022-02-06T16:50:08.318Z\"   23.0   35.0"
      ]
     },
     "execution_count": 31,
     "metadata": {},
     "output_type": "execute_result"
    }
   ],
   "source": [
    "df.head(3)"
   ]
  },
  {
   "cell_type": "code",
   "execution_count": 32,
   "id": "4c2c6ffa",
   "metadata": {},
   "outputs": [
    {
     "data": {
      "text/plain": [
       "0    23.0\n",
       "1    23.0\n",
       "2    23.0\n",
       "Name: 23.00, dtype: float64"
      ]
     },
     "execution_count": 32,
     "metadata": {},
     "output_type": "execute_result"
    }
   ],
   "source": [
    "df['23.00'].head(3)"
   ]
  },
  {
   "cell_type": "markdown",
   "id": "f8d5115a",
   "metadata": {},
   "source": [
    "Si copiamos las columnas con dentro del atributo *columns* (es una variable asociada al *tipo* DataFrame), desaparece la primera fila de datos, sustituida por la lista de nombres que hayamos escrito."
   ]
  },
  {
   "cell_type": "code",
   "execution_count": 23,
   "id": "cb1ac160",
   "metadata": {},
   "outputs": [],
   "source": [
    "df.columns =['hora', 'temperatura', 'humedad']"
   ]
  },
  {
   "cell_type": "code",
   "execution_count": 24,
   "id": "3c6fa736",
   "metadata": {},
   "outputs": [
    {
     "data": {
      "text/html": [
       "<div>\n",
       "<style scoped>\n",
       "    .dataframe tbody tr th:only-of-type {\n",
       "        vertical-align: middle;\n",
       "    }\n",
       "\n",
       "    .dataframe tbody tr th {\n",
       "        vertical-align: top;\n",
       "    }\n",
       "\n",
       "    .dataframe thead th {\n",
       "        text-align: right;\n",
       "    }\n",
       "</style>\n",
       "<table border=\"1\" class=\"dataframe\">\n",
       "  <thead>\n",
       "    <tr style=\"text-align: right;\">\n",
       "      <th></th>\n",
       "      <th>hora</th>\n",
       "      <th>temperatura</th>\n",
       "      <th>humedad</th>\n",
       "    </tr>\n",
       "  </thead>\n",
       "  <tbody>\n",
       "    <tr>\n",
       "      <th>0</th>\n",
       "      <td>\"2022-02-06T16:41:05.533Z\"</td>\n",
       "      <td>23.0</td>\n",
       "      <td>35.0</td>\n",
       "    </tr>\n",
       "    <tr>\n",
       "      <th>1</th>\n",
       "      <td>\"2022-02-06T16:47:08.500Z\"</td>\n",
       "      <td>23.0</td>\n",
       "      <td>35.0</td>\n",
       "    </tr>\n",
       "    <tr>\n",
       "      <th>2</th>\n",
       "      <td>\"2022-02-06T16:50:08.318Z\"</td>\n",
       "      <td>23.0</td>\n",
       "      <td>35.0</td>\n",
       "    </tr>\n",
       "  </tbody>\n",
       "</table>\n",
       "</div>"
      ],
      "text/plain": [
       "                         hora  temperatura  humedad\n",
       "0  \"2022-02-06T16:41:05.533Z\"         23.0     35.0\n",
       "1  \"2022-02-06T16:47:08.500Z\"         23.0     35.0\n",
       "2  \"2022-02-06T16:50:08.318Z\"         23.0     35.0"
      ]
     },
     "execution_count": 24,
     "metadata": {},
     "output_type": "execute_result"
    }
   ],
   "source": [
    "df.head(3)"
   ]
  },
  {
   "cell_type": "markdown",
   "id": "eddc1cd5",
   "metadata": {},
   "source": [
    "Pero si añadimos los nombres como parámetro dentro de la función de lectura del archivo, la primera fila permanece, y los nombres se añaden encima."
   ]
  },
  {
   "cell_type": "code",
   "execution_count": 41,
   "id": "24f438e0",
   "metadata": {},
   "outputs": [
    {
     "data": {
      "text/html": [
       "<div>\n",
       "<style scoped>\n",
       "    .dataframe tbody tr th:only-of-type {\n",
       "        vertical-align: middle;\n",
       "    }\n",
       "\n",
       "    .dataframe tbody tr th {\n",
       "        vertical-align: top;\n",
       "    }\n",
       "\n",
       "    .dataframe thead th {\n",
       "        text-align: right;\n",
       "    }\n",
       "</style>\n",
       "<table border=\"1\" class=\"dataframe\">\n",
       "  <thead>\n",
       "    <tr style=\"text-align: right;\">\n",
       "      <th></th>\n",
       "      <th>hora</th>\n",
       "      <th>temperatura</th>\n",
       "      <th>humedad</th>\n",
       "    </tr>\n",
       "  </thead>\n",
       "  <tbody>\n",
       "    <tr>\n",
       "      <th>0</th>\n",
       "      <td>\"2022-02-06T16:37:15.711Z\"</td>\n",
       "      <td>23.0</td>\n",
       "      <td>35.0</td>\n",
       "    </tr>\n",
       "    <tr>\n",
       "      <th>1</th>\n",
       "      <td>\"2022-02-06T16:41:05.533Z\"</td>\n",
       "      <td>23.0</td>\n",
       "      <td>35.0</td>\n",
       "    </tr>\n",
       "    <tr>\n",
       "      <th>2</th>\n",
       "      <td>\"2022-02-06T16:47:08.500Z\"</td>\n",
       "      <td>23.0</td>\n",
       "      <td>35.0</td>\n",
       "    </tr>\n",
       "  </tbody>\n",
       "</table>\n",
       "</div>"
      ],
      "text/plain": [
       "                         hora  temperatura  humedad\n",
       "0  \"2022-02-06T16:37:15.711Z\"         23.0     35.0\n",
       "1  \"2022-02-06T16:41:05.533Z\"         23.0     35.0\n",
       "2  \"2022-02-06T16:47:08.500Z\"         23.0     35.0"
      ]
     },
     "execution_count": 41,
     "metadata": {},
     "output_type": "execute_result"
    }
   ],
   "source": [
    "df = pd.read_csv('data.csv', names=['hora', 'temperatura', 'humedad'])\n",
    "df.head(3)"
   ]
  },
  {
   "cell_type": "markdown",
   "id": "ec778a74",
   "metadata": {},
   "source": [
    "# Atributos y métodos\n",
    "Con la instrucción `dir(variable)` podemos ver todos los atributos y métodos disponibles, aunque es más cómodo buscar en Internet la documentación del tipo de variable.\n",
    "\n",
    "Algunos de los más útiles en los *DataFrames* son `describe()`, `size()`, `sort_values()`, `count()`, `groupby()`, `mean()` o `sum()`  "
   ]
  },
  {
   "cell_type": "code",
   "execution_count": null,
   "id": "d13050c4",
   "metadata": {},
   "outputs": [],
   "source": [
    "print(df.describe())\n",
    "print()\n",
    "print(df.size)\n",
    "print()\n",
    "print(df.shape)"
   ]
  },
  {
   "cell_type": "markdown",
   "id": "35548dac",
   "metadata": {},
   "source": [
    "# Selección de datos\n",
    "## Columnas\n",
    "Se puede filtrar una columna poniendo su nombre entre corchetes:\n",
    "```python\n",
    "df['temperatura']\n",
    "```\n",
    "o se puede usar la notación de atributos:\n",
    "```python\n",
    "df.temperatura\n",
    "```\n",
    "\n",
    "También se pueden aplicar los métodos tras el filtrado:\n",
    "```python\n",
    "df.temperatura.size()\n",
    "```\n",
    "Averigua, siguiendo este último ejemplo, la media (`mean()`) de la humedad, en la siguiente celda, y los últimos 4 datos de temperatura en la celda tras ella."
   ]
  },
  {
   "cell_type": "code",
   "execution_count": null,
   "id": "507827de",
   "metadata": {},
   "outputs": [],
   "source": [
    "# Media de la humedad:\n"
   ]
  },
  {
   "cell_type": "code",
   "execution_count": null,
   "id": "957a00ba",
   "metadata": {},
   "outputs": [],
   "source": [
    "# cola (tail) de los datos de temperatura:\n"
   ]
  },
  {
   "cell_type": "markdown",
   "id": "cce712ff",
   "metadata": {},
   "source": [
    "Para filtrar dos columnas, hay que poner una lista de nombres de columna dentro de los corchetes. Las listas se escriben también con corchetes, así que tendremos que escribir corchetes dobles. `[['fcolumna1', 'columna2']]`.\n",
    "\n",
    "Muestra los cinco primeros datos (`head()`) de temperatura y humedad en la siguiente celda."
   ]
  },
  {
   "cell_type": "code",
   "execution_count": null,
   "id": "26426035",
   "metadata": {},
   "outputs": [],
   "source": []
  },
  {
   "cell_type": "markdown",
   "id": "ebf4c8b0",
   "metadata": {},
   "source": [
    "Y ahora muestra el tamaño (size) de los cinco primeros datos (head()) de temperatura y humedad en la siguiente celda."
   ]
  },
  {
   "cell_type": "code",
   "execution_count": null,
   "id": "f2bebcf7",
   "metadata": {},
   "outputs": [],
   "source": []
  },
  {
   "cell_type": "markdown",
   "id": "9994b8a8",
   "metadata": {},
   "source": [
    "## Filas\n",
    "Para seleccionar filas concretas, se puede usar un rango de índices:"
   ]
  },
  {
   "cell_type": "code",
   "execution_count": 106,
   "id": "46d08a1a",
   "metadata": {},
   "outputs": [
    {
     "data": {
      "text/html": [
       "<div>\n",
       "<style scoped>\n",
       "    .dataframe tbody tr th:only-of-type {\n",
       "        vertical-align: middle;\n",
       "    }\n",
       "\n",
       "    .dataframe tbody tr th {\n",
       "        vertical-align: top;\n",
       "    }\n",
       "\n",
       "    .dataframe thead th {\n",
       "        text-align: right;\n",
       "    }\n",
       "</style>\n",
       "<table border=\"1\" class=\"dataframe\">\n",
       "  <thead>\n",
       "    <tr style=\"text-align: right;\">\n",
       "      <th></th>\n",
       "      <th>hora</th>\n",
       "      <th>temperatura</th>\n",
       "      <th>humedad</th>\n",
       "    </tr>\n",
       "  </thead>\n",
       "  <tbody>\n",
       "    <tr>\n",
       "      <th>2</th>\n",
       "      <td>\"2022-02-06T16:47:08.500Z\"</td>\n",
       "      <td>23.0</td>\n",
       "      <td>35.0</td>\n",
       "    </tr>\n",
       "    <tr>\n",
       "      <th>3</th>\n",
       "      <td>\"2022-02-06T16:50:08.318Z\"</td>\n",
       "      <td>23.0</td>\n",
       "      <td>35.0</td>\n",
       "    </tr>\n",
       "  </tbody>\n",
       "</table>\n",
       "</div>"
      ],
      "text/plain": [
       "                         hora  temperatura  humedad\n",
       "2  \"2022-02-06T16:47:08.500Z\"         23.0     35.0\n",
       "3  \"2022-02-06T16:50:08.318Z\"         23.0     35.0"
      ]
     },
     "execution_count": 106,
     "metadata": {},
     "output_type": "execute_result"
    }
   ],
   "source": [
    "df[2:4]"
   ]
  },
  {
   "cell_type": "markdown",
   "id": "17a185d9",
   "metadata": {},
   "source": [
    "## Ambas\n",
    "Se deben usar dos secuencias de corchetes:"
   ]
  },
  {
   "cell_type": "code",
   "execution_count": 111,
   "id": "ea8ec56c",
   "metadata": {},
   "outputs": [
    {
     "data": {
      "text/plain": [
       "4    23.0\n",
       "5    23.0\n",
       "6    23.0\n",
       "Name: temperatura, dtype: float64"
      ]
     },
     "execution_count": 111,
     "metadata": {},
     "output_type": "execute_result"
    }
   ],
   "source": [
    "df[4:7]['temperatura']"
   ]
  },
  {
   "cell_type": "markdown",
   "id": "02d24fe2",
   "metadata": {},
   "source": [
    "Si indicamos el filtro de columnas en forma de lista, la visualización cambia:"
   ]
  },
  {
   "cell_type": "code",
   "execution_count": null,
   "id": "d9af8129",
   "metadata": {},
   "outputs": [],
   "source": [
    "df['temperatura']"
   ]
  },
  {
   "cell_type": "code",
   "execution_count": null,
   "id": "9afbc16c",
   "metadata": {},
   "outputs": [],
   "source": [
    "df[['temperatura']]"
   ]
  },
  {
   "cell_type": "code",
   "execution_count": null,
   "id": "3d035d60",
   "metadata": {},
   "outputs": [],
   "source": [
    "df[['temperatura']][4:7]"
   ]
  },
  {
   "cell_type": "markdown",
   "id": "f77612bd",
   "metadata": {},
   "source": [
    "Podemos usar índices negativos para contar desde el final de los datos. Si omitimos uno de los índices, se tomará ese extremo:\n",
    "\n",
    "`df['temperatura'][:4]` mostrará los cuatro primeros.\n",
    "\n",
    "`df['temperatura'][745:]` mostrará los últimos desde el 745.\n",
    "\n",
    "`df['temperatura'][-4:]` mostrará los cuatro últimos.\n",
    "\n",
    "`df['temperatura'][-10:-3]` mostrará los 7 últimos anteriores a los tres últimos.\n",
    "\n",
    "Los índices de las filas deben estar en orden creciente, o no se seleccionará ningún dato.\n",
    "\n",
    "`df['temperatura'][745:740]` da solo un resultado resumen vacío.\n",
    "\n",
    "### Ejercicio:\n",
    "Comprueba el funcionamiento de los cinco ejemplos anteriores:"
   ]
  },
  {
   "cell_type": "code",
   "execution_count": null,
   "id": "d4f8d754",
   "metadata": {},
   "outputs": [],
   "source": []
  },
  {
   "cell_type": "code",
   "execution_count": null,
   "id": "f101473b",
   "metadata": {},
   "outputs": [],
   "source": []
  },
  {
   "cell_type": "code",
   "execution_count": null,
   "id": "28d0794d",
   "metadata": {},
   "outputs": [],
   "source": []
  },
  {
   "cell_type": "code",
   "execution_count": null,
   "id": "86972bc3",
   "metadata": {},
   "outputs": [],
   "source": []
  },
  {
   "cell_type": "code",
   "execution_count": null,
   "id": "a89c6fe1",
   "metadata": {},
   "outputs": [],
   "source": []
  },
  {
   "cell_type": "markdown",
   "id": "005a762d",
   "metadata": {},
   "source": [
    "Se pueden usar métodos y atributos en los resultados de estas operaciones de selección, añadiendo la función que queremos tras la expresión de filtrado, usando la *notación* del **punto**:\n",
    "\n",
    "```python\n",
    "df[['temperatura']][0:5].describe()\n",
    "```"
   ]
  },
  {
   "cell_type": "markdown",
   "id": "494191fc",
   "metadata": {},
   "source": [
    "### Ejercicio:\n",
    "En las siguientes tres celdas:\n",
    "1. Muestra los últimos 20 datos de humedad.\n",
    "1. Averigua la media de temperatura de las 10 segundas celdas, usando la notación de selección por filas.\n",
    "1. Muestra la mediana (*median()*) de los 30 primeros datos de humedad y temperatura."
   ]
  },
  {
   "cell_type": "code",
   "execution_count": null,
   "id": "0e3487ac",
   "metadata": {},
   "outputs": [],
   "source": []
  },
  {
   "cell_type": "code",
   "execution_count": null,
   "id": "2d7e9f18",
   "metadata": {},
   "outputs": [],
   "source": []
  },
  {
   "cell_type": "code",
   "execution_count": null,
   "id": "b178ce94",
   "metadata": {},
   "outputs": [],
   "source": []
  },
  {
   "cell_type": "markdown",
   "id": "c6fbb6ac",
   "metadata": {},
   "source": [
    "## Simplificar la selección de filas y columnas: función *loc*\n",
    "Se puede usar dentro de los mismos corchetes el filtro de filas y columnas, usando la coma como separador, con la función **loc**:\n",
    "```python\n",
    "df.loc[1:4, 'temperatura']\n",
    "```"
   ]
  },
  {
   "cell_type": "code",
   "execution_count": null,
   "id": "26dd3042",
   "metadata": {},
   "outputs": [],
   "source": [
    "df.loc[10:29, ['temperatura','humedad']].value_counts()"
   ]
  },
  {
   "cell_type": "markdown",
   "id": "d5f08b89",
   "metadata": {},
   "source": [
    "## Filtrar por valores\n",
    "Observa esta expresión:\n",
    "```python\n",
    "df.temperatura == 19.0\n",
    "```\n",
    "El resultado es la comparación de cada valor de temperatura con el valor 19.0. Tiene un índice, igual al del *DataFrama*, y una columna con el resultado, que será **True** o **False** según el contenido de cada fila.\n"
   ]
  },
  {
   "cell_type": "code",
   "execution_count": null,
   "id": "054e7809",
   "metadata": {},
   "outputs": [],
   "source": [
    "df.temperatura == 19.0"
   ]
  },
  {
   "cell_type": "markdown",
   "id": "f0eed300",
   "metadata": {},
   "source": [
    "También podemos usar la notación `df['temperatura'] == 19.0`.\n",
    "\n",
    "Si ahora colocamos esa expresión dentro de unos corchetes del *DataFrame*, se mostrarán aquellas filas que coinciden con el valor que hemos propuesto"
   ]
  },
  {
   "cell_type": "code",
   "execution_count": null,
   "id": "b52dcd26",
   "metadata": {},
   "outputs": [],
   "source": [
    "df[df.temperatura == 19.0]"
   ]
  },
  {
   "cell_type": "markdown",
   "id": "5cba0d2b",
   "metadata": {},
   "source": [
    "Para filtrar varios valores podemos usar dos enfoques:\n",
    "- **query** es un método que admite una cadena de texto como parámetro, y allí ponemos la combinación de expresiones que queremos utilizar.\n",
    "- **isin** es otro método, en el que escribimos los valores dentro de una lista."
   ]
  },
  {
   "cell_type": "code",
   "execution_count": null,
   "id": "8db7514d",
   "metadata": {},
   "outputs": [],
   "source": [
    "df.query('temperatura == 20.0 | temperatura == 19.0')"
   ]
  },
  {
   "cell_type": "code",
   "execution_count": null,
   "id": "f8494373",
   "metadata": {},
   "outputs": [],
   "source": [
    "df[df.temperatura.isin([19.0, 20,0])]"
   ]
  },
  {
   "cell_type": "markdown",
   "id": "7b1c9b6e",
   "metadata": {},
   "source": [
    "El filtrado por valores puede usar gran cantidad de funciones, especialmente cuando se trabaja con texto."
   ]
  },
  {
   "cell_type": "markdown",
   "id": "98047db8",
   "metadata": {},
   "source": [
    "## Agrupar datos\n",
    "El método `groupby()` permite realizar recuentos y otras tareas con los datos agrupados. Veamos primero en qué consiste:\n",
    "```python\n",
    "df.groupby('temperatura').describe()\n",
    "```\n",
    "Copia el código anterior a la celda siguiente y comprueba el funcionamiento:"
   ]
  },
  {
   "cell_type": "code",
   "execution_count": 217,
   "id": "d8941622",
   "metadata": {},
   "outputs": [
    {
     "data": {
      "text/html": [
       "<div>\n",
       "<style scoped>\n",
       "    .dataframe tbody tr th:only-of-type {\n",
       "        vertical-align: middle;\n",
       "    }\n",
       "\n",
       "    .dataframe tbody tr th {\n",
       "        vertical-align: top;\n",
       "    }\n",
       "\n",
       "    .dataframe thead tr th {\n",
       "        text-align: left;\n",
       "    }\n",
       "\n",
       "    .dataframe thead tr:last-of-type th {\n",
       "        text-align: right;\n",
       "    }\n",
       "</style>\n",
       "<table border=\"1\" class=\"dataframe\">\n",
       "  <thead>\n",
       "    <tr>\n",
       "      <th></th>\n",
       "      <th colspan=\"8\" halign=\"left\">humedad</th>\n",
       "    </tr>\n",
       "    <tr>\n",
       "      <th></th>\n",
       "      <th>count</th>\n",
       "      <th>mean</th>\n",
       "      <th>std</th>\n",
       "      <th>min</th>\n",
       "      <th>25%</th>\n",
       "      <th>50%</th>\n",
       "      <th>75%</th>\n",
       "      <th>max</th>\n",
       "    </tr>\n",
       "    <tr>\n",
       "      <th>temperatura</th>\n",
       "      <th></th>\n",
       "      <th></th>\n",
       "      <th></th>\n",
       "      <th></th>\n",
       "      <th></th>\n",
       "      <th></th>\n",
       "      <th></th>\n",
       "      <th></th>\n",
       "    </tr>\n",
       "  </thead>\n",
       "  <tbody>\n",
       "    <tr>\n",
       "      <th>17.0</th>\n",
       "      <td>3.0</td>\n",
       "      <td>32.333333</td>\n",
       "      <td>0.577350</td>\n",
       "      <td>32.0</td>\n",
       "      <td>32.0</td>\n",
       "      <td>32.0</td>\n",
       "      <td>32.50</td>\n",
       "      <td>33.0</td>\n",
       "    </tr>\n",
       "    <tr>\n",
       "      <th>18.0</th>\n",
       "      <td>5.0</td>\n",
       "      <td>32.400000</td>\n",
       "      <td>0.894427</td>\n",
       "      <td>32.0</td>\n",
       "      <td>32.0</td>\n",
       "      <td>32.0</td>\n",
       "      <td>32.00</td>\n",
       "      <td>34.0</td>\n",
       "    </tr>\n",
       "    <tr>\n",
       "      <th>19.0</th>\n",
       "      <td>13.0</td>\n",
       "      <td>35.153846</td>\n",
       "      <td>2.192645</td>\n",
       "      <td>32.0</td>\n",
       "      <td>33.0</td>\n",
       "      <td>34.0</td>\n",
       "      <td>37.00</td>\n",
       "      <td>38.0</td>\n",
       "    </tr>\n",
       "    <tr>\n",
       "      <th>20.0</th>\n",
       "      <td>47.0</td>\n",
       "      <td>36.319149</td>\n",
       "      <td>1.519531</td>\n",
       "      <td>34.0</td>\n",
       "      <td>35.0</td>\n",
       "      <td>36.0</td>\n",
       "      <td>37.00</td>\n",
       "      <td>39.0</td>\n",
       "    </tr>\n",
       "    <tr>\n",
       "      <th>21.0</th>\n",
       "      <td>222.0</td>\n",
       "      <td>38.914414</td>\n",
       "      <td>1.706222</td>\n",
       "      <td>34.0</td>\n",
       "      <td>38.0</td>\n",
       "      <td>39.0</td>\n",
       "      <td>40.00</td>\n",
       "      <td>42.0</td>\n",
       "    </tr>\n",
       "    <tr>\n",
       "      <th>22.0</th>\n",
       "      <td>180.0</td>\n",
       "      <td>37.566667</td>\n",
       "      <td>1.603418</td>\n",
       "      <td>33.0</td>\n",
       "      <td>37.0</td>\n",
       "      <td>38.0</td>\n",
       "      <td>38.25</td>\n",
       "      <td>42.0</td>\n",
       "    </tr>\n",
       "    <tr>\n",
       "      <th>23.0</th>\n",
       "      <td>254.0</td>\n",
       "      <td>36.492126</td>\n",
       "      <td>1.424634</td>\n",
       "      <td>30.0</td>\n",
       "      <td>36.0</td>\n",
       "      <td>36.0</td>\n",
       "      <td>37.00</td>\n",
       "      <td>41.0</td>\n",
       "    </tr>\n",
       "    <tr>\n",
       "      <th>24.0</th>\n",
       "      <td>35.0</td>\n",
       "      <td>35.857143</td>\n",
       "      <td>0.974464</td>\n",
       "      <td>33.0</td>\n",
       "      <td>35.5</td>\n",
       "      <td>36.0</td>\n",
       "      <td>36.00</td>\n",
       "      <td>37.0</td>\n",
       "    </tr>\n",
       "  </tbody>\n",
       "</table>\n",
       "</div>"
      ],
      "text/plain": [
       "            humedad                                                    \n",
       "              count       mean       std   min   25%   50%    75%   max\n",
       "temperatura                                                            \n",
       "17.0            3.0  32.333333  0.577350  32.0  32.0  32.0  32.50  33.0\n",
       "18.0            5.0  32.400000  0.894427  32.0  32.0  32.0  32.00  34.0\n",
       "19.0           13.0  35.153846  2.192645  32.0  33.0  34.0  37.00  38.0\n",
       "20.0           47.0  36.319149  1.519531  34.0  35.0  36.0  37.00  39.0\n",
       "21.0          222.0  38.914414  1.706222  34.0  38.0  39.0  40.00  42.0\n",
       "22.0          180.0  37.566667  1.603418  33.0  37.0  38.0  38.25  42.0\n",
       "23.0          254.0  36.492126  1.424634  30.0  36.0  36.0  37.00  41.0\n",
       "24.0           35.0  35.857143  0.974464  33.0  35.5  36.0  36.00  37.0"
      ]
     },
     "execution_count": 217,
     "metadata": {},
     "output_type": "execute_result"
    }
   ],
   "source": [
    "df.groupby('temperatura').describe()"
   ]
  },
  {
   "cell_type": "markdown",
   "id": "bbc2503d",
   "metadata": {},
   "source": [
    "Muchas de las operaciones que estamos haciendo aquí sobre nuestro *DataFrame* dan como resultado también un *DataFrame*, o bien, una *Serie* si es el caso que el resultado tiene una sola columna.\n",
    "\n",
    "Por este motivo, podemos aplicar los filtros vistos antes también a este resultado. Tened en cuenta que aquí, el grupo de temperaturas se convierte en el índice, de manera que hay que usar estos valores de índice para filtrar las filas:\n",
    "\n",
    "```python\n",
    "df.groupby('temperatura').describe()[17:18]\n",
    "df.groupby('temperatura').describe()[('humedad', 'mean')]\n",
    "```\n",
    "La segunda línea de arriba debe usar o bien solamente los corchetes, o encerrar -tal y como está- los nombres de índices entre paréntesis, ya que se trata de un *DataFrame* que tiene dos niveles de columnas.\n",
    "\n",
    "Prueba estos ejemplos en las cedas siguientes:"
   ]
  },
  {
   "cell_type": "code",
   "execution_count": null,
   "id": "bf9cafb5",
   "metadata": {},
   "outputs": [],
   "source": []
  },
  {
   "cell_type": "code",
   "execution_count": null,
   "id": "7bed01dd",
   "metadata": {},
   "outputs": [],
   "source": []
  },
  {
   "cell_type": "markdown",
   "id": "7f1404ba",
   "metadata": {},
   "source": [
    "Prueba otra vez este último ejemplo, pero ahora encerrando las columnas 'humedad' y 'mean' entre dobles corchetes:"
   ]
  },
  {
   "cell_type": "code",
   "execution_count": null,
   "id": "43da00b0",
   "metadata": {},
   "outputs": [],
   "source": []
  },
  {
   "cell_type": "markdown",
   "id": "5af6ddfc",
   "metadata": {},
   "source": [
    "También podríamos recalcular la media de este último ejemplo, usando el filtrado de columnas tras el agrupamiento, en vez de utilizar el resumen que proporciona `describe()`:"
   ]
  },
  {
   "cell_type": "code",
   "execution_count": null,
   "id": "98ae8268",
   "metadata": {},
   "outputs": [],
   "source": [
    "df.groupby('temperatura')[['humedad']].mean()"
   ]
  },
  {
   "cell_type": "markdown",
   "id": "c2759a9f",
   "metadata": {},
   "source": [
    "También se puede usar la función `loc` para pasar los índices por nombre, o la función `iloc` para pasarlos por orden de fila o columna."
   ]
  },
  {
   "cell_type": "code",
   "execution_count": null,
   "id": "85b9e661",
   "metadata": {},
   "outputs": [],
   "source": [
    "df.groupby('temperatura').describe().loc[17:19,:].loc[:,('humedad', 'mean')]"
   ]
  },
  {
   "cell_type": "markdown",
   "id": "21288474",
   "metadata": {},
   "source": [
    "Finalmente, comprueba las siguientes expresiones:"
   ]
  },
  {
   "cell_type": "code",
   "execution_count": null,
   "id": "907b8242",
   "metadata": {},
   "outputs": [],
   "source": [
    "print('Tamaño de cada grupo de distintas temperaturas (es un recuento)')\n",
    "df.groupby('temperatura').size()"
   ]
  },
  {
   "cell_type": "code",
   "execution_count": null,
   "id": "5ee5043e",
   "metadata": {},
   "outputs": [],
   "source": [
    "print(\"Recuento, cantidad de veces que aparece la temperatura de 19.0\")\n",
    "print('   ',df['temperatura'][df.temperatura == 19.0].count(), \" veces.\")"
   ]
  },
  {
   "cell_type": "code",
   "execution_count": null,
   "id": "240ba119",
   "metadata": {},
   "outputs": [],
   "source": [
    "print(\"Lo mismo, usando 'size'.\")\n",
    "df.temperatura[df.temperatura == 19.0].size"
   ]
  },
  {
   "cell_type": "code",
   "execution_count": null,
   "id": "570bc48e",
   "metadata": {},
   "outputs": [],
   "source": [
    "print(\"Si se filtran dos columnas, el tamaño será el doble, por lo que no es adecuado para contar:\")\n",
    "df[['temperatura', 'humedad']][df.temperatura == 19.0].size"
   ]
  },
  {
   "cell_type": "code",
   "execution_count": null,
   "id": "26d456ff",
   "metadata": {},
   "outputs": [],
   "source": [
    "print(\"Usando 'value_counts' se puede contar por subagrupamientos:\")\n",
    "df[['temperatura', 'humedad']][df.temperatura == 19.0].value_counts()"
   ]
  },
  {
   "cell_type": "code",
   "execution_count": null,
   "id": "bb8d3cda",
   "metadata": {},
   "outputs": [],
   "source": [
    "print(\"Aunque podemos usar también 'count' si agrupamos con 'groupby' antes:\")\n",
    "df[['temperatura', 'humedad']][df.temperatura == 19.0].groupby('humedad').count()"
   ]
  },
  {
   "cell_type": "markdown",
   "id": "2c64c10d",
   "metadata": {},
   "source": [
    "### Ejercicios:\n",
    "1. Imprime la cantidad de filas que tienen temperatura de 20.0 y humedad de 35.0\n",
    "1. Calcula la media de temperatura de todos los datos cuya humedad es de 33.0\n",
    "1. Y ahora la media de temperatura de los datos con humedad de 36.0\n",
    "1. Suma la cantidad de filas que tienen humedad mayor que 35"
   ]
  },
  {
   "cell_type": "code",
   "execution_count": null,
   "id": "3df49ff8",
   "metadata": {},
   "outputs": [],
   "source": []
  },
  {
   "cell_type": "code",
   "execution_count": null,
   "id": "34db68de",
   "metadata": {},
   "outputs": [],
   "source": []
  },
  {
   "cell_type": "code",
   "execution_count": null,
   "id": "e71a68f8",
   "metadata": {},
   "outputs": [],
   "source": []
  },
  {
   "cell_type": "code",
   "execution_count": null,
   "id": "a23392be",
   "metadata": {},
   "outputs": [],
   "source": []
  },
  {
   "cell_type": "markdown",
   "id": "fb0e0f90",
   "metadata": {},
   "source": [
    "## Ordenar los datos.\n",
    "Si te has fijado en las instrucciones `groupby` anteriores, habrás observado que los grupos se ordenan crecientemente.\n",
    "\n",
    "Sin embargo, cuando hicimos `value_counts`, no ocurre así. Con las selecciones por corchetes, los datos se agrupan (si la operación lo exige) según el orden en el que van apareciendo.\n",
    "\n",
    "Para corregir esto, se usa `sort_values`."
   ]
  },
  {
   "cell_type": "code",
   "execution_count": 290,
   "id": "77efa22d",
   "metadata": {},
   "outputs": [
    {
     "data": {
      "text/plain": [
       "humedad\n",
       "37.0       4\n",
       "33.0       3\n",
       "34.0       3\n",
       "38.0       2\n",
       "32.0       1\n",
       "dtype: int64"
      ]
     },
     "execution_count": 290,
     "metadata": {},
     "output_type": "execute_result"
    }
   ],
   "source": [
    "df[df.temperatura == 19.0][['humedad']].sort_values(by=('humedad'), ascending=True).value_counts()"
   ]
  },
  {
   "cell_type": "code",
   "execution_count": null,
   "id": "a59901fe",
   "metadata": {
    "scrolled": true
   },
   "outputs": [],
   "source": [
    "plt.figure(figsize=(20,20))\n",
    "\n",
    "print(df)"
   ]
  },
  {
   "cell_type": "code",
   "execution_count": null,
   "id": "0a3254de",
   "metadata": {
    "scrolled": true
   },
   "outputs": [],
   "source": [
    "#df.in\n",
    "\n",
    "plt.plot(df['temperatura'])\n"
   ]
  },
  {
   "cell_type": "code",
   "execution_count": null,
   "id": "4fe19c34",
   "metadata": {},
   "outputs": [],
   "source": [
    "df.sort_values('humedad', ascending=True).head(5)"
   ]
  },
  {
   "cell_type": "code",
   "execution_count": null,
   "id": "ed3cdcd7",
   "metadata": {},
   "outputs": [],
   "source": [
    "plt.plot(df.humedad)"
   ]
  },
  {
   "cell_type": "code",
   "execution_count": null,
   "id": "c1f9a504",
   "metadata": {},
   "outputs": [],
   "source": [
    "plt.xticks(rotation='vertical')"
   ]
  },
  {
   "cell_type": "code",
   "execution_count": null,
   "id": "05baa0e9",
   "metadata": {},
   "outputs": [],
   "source": [
    "df.temperatura.mean()"
   ]
  },
  {
   "cell_type": "code",
   "execution_count": null,
   "id": "5184519e",
   "metadata": {},
   "outputs": [],
   "source": [
    "df['humedad'].mean()"
   ]
  }
 ],
 "metadata": {
  "kernelspec": {
   "display_name": "Python 3 (ipykernel)",
   "language": "python",
   "name": "python3"
  },
  "language_info": {
   "codemirror_mode": {
    "name": "ipython",
    "version": 3
   },
   "file_extension": ".py",
   "mimetype": "text/x-python",
   "name": "python",
   "nbconvert_exporter": "python",
   "pygments_lexer": "ipython3",
   "version": "3.9.13"
  }
 },
 "nbformat": 4,
 "nbformat_minor": 5
}
