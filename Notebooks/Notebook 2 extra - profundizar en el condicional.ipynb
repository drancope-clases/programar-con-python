{
 "cells": [
  {
   "cell_type": "markdown",
   "id": "b7d5b470",
   "metadata": {},
   "source": [
    "Nombre:\n",
    "\n",
    "<u>                                                                  </u>"
   ]
  },
  {
   "cell_type": "markdown",
   "id": "b72570fd",
   "metadata": {},
   "source": [
    "# Python: Condicional en ejercicios reales\n",
    "\n",
    "Realiza los programas que resuelven los problemas planteados:\n",
    "    \n",
    "## Ejercicio 1:\n",
    "\n",
    "**Calificación de un estudiante: Escribe un programa que solicite al usuario ingresar una calificación entre 0 y 100. Luego, muestra un mensaje que indique si el estudiante ha aprobado o no. Considera que se aprueba con una calificación igual o mayor a 60.**\n",
    "\n",
    "### Qué sabemos para resolver este problema:\n",
    "1. Tenemos conocimiento de las funciones ```input()``` e ```int()```, para introducir datos de manera interactiva en el ordenador.\n",
    "1. Sabemos la sintáxis de la instrucción ```if```. A esta instrucción le sigue una expresión que se evalúa y produce un resultado, que Python interpreta de manera lógica. Tras la expresión, se escriben dos puntos, ```:```, y esto da pie a iniciar un *bloque* (todo el bloque se escribe indentado a la derecha)\n",
    "2. También podríamos usar la instrucción else, para dar el mensaje adecuado si la expresión da resultado ```False```, o bien usar ```if``` dos veces.\n",
    "1. Por último, sabemos imprimir el resultado con ```print()```\n"
   ]
  },
  {
   "cell_type": "code",
   "execution_count": null,
   "id": "2fbabdc6",
   "metadata": {},
   "outputs": [],
   "source": []
  },
  {
   "cell_type": "markdown",
   "id": "0fa39cdc",
   "metadata": {},
   "source": [
    "## Ejercicio 2:    \n",
    "Número positivo o negativo: Crea un programa que pida al usuario ingresar un número entero. Luego, muestra un mensaje indicando si el número es positivo, negativo o cero.\n",
    "### Qué usar para resolverlo:\n",
    "Aunque podemos usar la instrucción condicional ```if``` solamente, también podemos usar ```else``` y ```elif```.\n",
    "\n"
   ]
  },
  {
   "cell_type": "code",
   "execution_count": null,
   "id": "93173e7c",
   "metadata": {},
   "outputs": [],
   "source": []
  },
  {
   "cell_type": "markdown",
   "id": "6e3e3d42",
   "metadata": {},
   "source": [
    "## Ejercicio 3:\n",
    "Edad para votar: Diseña un programa que solicite al usuario ingresar su edad. Luego, muestra un mensaje que indique si la persona es mayor de edad y puede votar.\n"
   ]
  },
  {
   "cell_type": "code",
   "execution_count": null,
   "id": "5ef96a78",
   "metadata": {},
   "outputs": [],
   "source": []
  },
  {
   "cell_type": "markdown",
   "id": "976aea26",
   "metadata": {},
   "source": [
    "## Ejercicio 4:\n",
    "Número par o impar: Escribe un programa que solicite al usuario ingresar un número entero. A continuación, muestra un mensaje que indique si el número es par o impar.\n",
    "### Qué usar para resolverlo:\n",
    "Aquí es necesario usar el operador de módulo, ```%```. Un número par da resultado cero en el módulo cuando se divide por 2."
   ]
  },
  {
   "cell_type": "code",
   "execution_count": null,
   "id": "9478e1c4",
   "metadata": {},
   "outputs": [],
   "source": []
  },
  {
   "cell_type": "markdown",
   "id": "f3c1569e",
   "metadata": {},
   "source": [
    "## Ejercicio 5:\n",
    "Calculadora de descuento: Crea un programa que pida al usuario ingresar el precio de un producto y el porcentaje de descuento aplicado. Luego, muestra el precio final después de aplicar el descuento.\n",
    "### Qué usar para resolverlo:\n",
    "El precio final será el precio menos el precio multiplicado por el descuento entre 100."
   ]
  },
  {
   "cell_type": "code",
   "execution_count": null,
   "id": "8257759f",
   "metadata": {},
   "outputs": [],
   "source": []
  },
  {
   "cell_type": "markdown",
   "id": "bbeaf1e8",
   "metadata": {},
   "source": [
    "## Ejercicio 6:\n",
    "Día de la semana: Diseña un programa que solicite al usuario ingresar un número del 1 al 7, representando un día de la semana. Luego, muestra un mensaje que indique el nombre del día correspondiente.\n",
    "### Qué usar para resolverlo:\n",
    "Aquí tenemos la necesidad de usar una instrucción ```if``` seguida de cinco instrucciones ```elif``` y una ```else``` final.\n",
    "\n",
    "Sin embargo, más adelante veremos cómo hacer uso de un nuevo tipo de datos, las **listas**, para hacer el programa más eficaz y legible. Aún no hemos visto tampoco la instrucción ```for```, que reducirá el código necesario.\n",
    "Por otro lado, se podría construir algún tipo de bloque para comprobar si el número introducido es válido, también con una nueva instrucción que todavía no conocemos, ```while```."
   ]
  },
  {
   "cell_type": "code",
   "execution_count": null,
   "id": "a1b30795",
   "metadata": {},
   "outputs": [],
   "source": []
  },
  {
   "cell_type": "markdown",
   "id": "ac8315f0",
   "metadata": {},
   "source": [
    "## Ejercicio 7:\n",
    "Categoría de edad: Escribe un programa que pida al usuario ingresar su edad. Luego, muestra un mensaje que indique en qué categoría de edad se encuentra: \"niño\" (0-12 años), \"adolescente\" (13-17 años), \"adulto joven\" (18-29 años), \"adulto\" (30-64 años) o \"adulto mayor\" (65 años en adelante)."
   ]
  },
  {
   "cell_type": "markdown",
   "id": "98b38211",
   "metadata": {},
   "source": [
    "## Ejercicio 8:\n",
    "Calculadora de **IMC***: Crea un programa que solicite al usuario ingresar su peso en kilogramos y su altura en metros. Luego, muestra un mensaje que indique el **índice de masa corporal** (**IMC**) y la clasificación correspondiente según la tabla de la Organización Mundial de la Salud.\n",
    "### Qué usar para resolverlo:\n",
    "Hace falta conocer la fórmula del **IMC**. Te animo a buscarla en Internet. Encontrarás también la tabla de clasificación que el ejercicio nos pide."
   ]
  },
  {
   "cell_type": "code",
   "execution_count": null,
   "id": "09237a12",
   "metadata": {},
   "outputs": [],
   "source": []
  },
  {
   "cell_type": "markdown",
   "id": "300790a9",
   "metadata": {},
   "source": [
    "## Ejercicio 9:\n",
    "Número mayor: Diseña un programa que pida al usuario ingresar dos números enteros. Después, muestra un mensaje que indique cuál de los dos números es mayor o si son iguales."
   ]
  },
  {
   "cell_type": "code",
   "execution_count": null,
   "id": "ec89b7d6",
   "metadata": {},
   "outputs": [],
   "source": []
  },
  {
   "cell_type": "markdown",
   "id": "c91b22ac",
   "metadata": {},
   "source": [
    "## Ejercicio 10:\n",
    "Días en un mes: Escribe un programa que solicite al usuario ingresar el número correspondiente a un mes del año (1-12). Luego, muestra un mensaje indicando la cantidad de días que tiene ese mes."
   ]
  },
  {
   "cell_type": "code",
   "execution_count": null,
   "id": "e278ab56",
   "metadata": {},
   "outputs": [],
   "source": []
  }
 ],
 "metadata": {
  "kernelspec": {
   "display_name": "Python 3",
   "language": "python",
   "name": "python3"
  },
  "language_info": {
   "codemirror_mode": {
    "name": "ipython",
    "version": 3
   },
   "file_extension": ".py",
   "mimetype": "text/x-python",
   "name": "python",
   "nbconvert_exporter": "python",
   "pygments_lexer": "ipython3",
   "version": "3.11.5"
  }
 },
 "nbformat": 4,
 "nbformat_minor": 5
}
