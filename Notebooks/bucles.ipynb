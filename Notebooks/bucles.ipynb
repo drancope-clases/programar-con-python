# %% markdown
# # Bucles
# <code>
#
#     bucle:
#         hace lo que hay aquí hasta que el bucle termina de alguna forma
#
#
# %% codecell
## For
'''

 for variable in range:
     hace esto hasta que termina range


función range:
     range(desde, hasta)
'''

# Hace esto paso a paso hasta el final

for i in range(10): # números del 0 al 10
    print(i)

# %% codecell
## while

'''
    # 1. Condición
    # 2. Ejecución

    # 1. while condición:
    # 2.    Hace esto mientras condición resulta verdadero

'''
a = 1
b = 10
while a < b:
    print(a)
    a += 1
# %% codecell
