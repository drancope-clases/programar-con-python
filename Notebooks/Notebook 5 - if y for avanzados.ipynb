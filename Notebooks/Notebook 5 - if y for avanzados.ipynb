{
 "cells": [
  {
   "cell_type": "markdown",
   "id": "b33bea3f",
   "metadata": {},
   "source": [
    "## Ejercicio 11\n",
    ": colores con if anidados\n",
    "\n",
    "El último programa nos imprime el resultado de mezclar dos colores primarios.\n",
    "\n",
    "- Introducimos el primer color, a elegir entre dos que ofrece el programa, por ejemplo amarillo y rojo.\n",
    "  * Si no es uno de estos, imprimimos un error. Podemos utilizar el operador de desigualdad, !=\n",
    "  * Si es el amarillo, pedimos un segundo color, a elegir entre los dos no elegidos antes, es decir, el rojo y el azul.\n",
    "    * Si es el rojo, damos el resultado de la mezcla.\n",
    "    * Si es el azul, damos el resultado.\n",
    "    * Si no es ninguno, se trata de un error, y habrá que avisar.\n",
    "  * Si el primer color era el otro, es decir, el rojo en este ejemplo, entonces pedimos el segundo color, a elegir entre los dos no elegidos (amarillo y azul).\n",
    "    * Si el segundo color es el amarillo, damos su resultado.\n",
    "    * Si es al azul, damos el resultado.\n",
    "    * Si no es ninguno, avisamos del error.\n",
    "\n",
    "Según el esquema propuesto, hemos avisado del error al elegir el primer color antes de comparar con los dos primeros colores propuestos. Esto obliga a realizar una primera comparación complicada. Podemos diseñarla de manera más fácil, usando el orden de comparaciones propuesto para el segundo color."
   ]
  },
  {
   "cell_type": "code",
   "execution_count": null,
   "id": "c2684d36",
   "metadata": {},
   "outputs": [],
   "source": []
  },
  {
   "cell_type": "markdown",
   "id": "7936a591",
   "metadata": {},
   "source": [
    "## Ejercicio 12: encontrar factores de un número menor que 100\n",
    "\n",
    "El problema de buscar los factores de un número se puede resolver con este programa:\n",
    "\n",
    "```python\n",
    "numero = int(input(\"Escribir un número menor que 100))\n",
    "\n",
    "for i in range(50):\n",
    "    for j in range(20):\n",
    "         if numero == i*j:\n",
    "                   break\n",
    "    if numero == i*j:\n",
    "         break\n",
    "\n",
    "print(i,j)\n",
    "\n",
    "```\n",
    "\n",
    "El programa tiene un comportamiento que no es totalmente adecuado: cuando el número es primo, no se va a encontrar una pareja de factores que encuentre nuestro resultado. Lo puedes comprobar introduciendo cualquier primo, como el 17, o el 47, cuando ejecutas el programa.\n",
    "\n",
    "Si no se encuentra ninguna combinación, habrá un momento en el que i por j sea mayor que el número que estamos buscando. Si ocurre eso, podemos romper el bucle (los dos bucles, o uno solo, pero en este caso, ¿será el interno o el externo?), tras haber escrito un mensaje diciendo que el número es primo.\n"
   ]
  },
  {
   "cell_type": "code",
   "execution_count": null,
   "id": "91b844aa",
   "metadata": {},
   "outputs": [],
   "source": []
  },
  {
   "cell_type": "markdown",
   "id": "0b19da99",
   "metadata": {},
   "source": [
    "## Ejercicio 13: factorizar\n",
    "\n",
    "La factorización del ejercicio anterior no es completa, ya que uno de los dos factores puede ser factorizable él mismo.\n",
    "\n",
    "Se propone ahora realizar una factorización hasta el final. Este problema puede resolverse iterativamente o recursivamente"
   ]
  }
 ],
 "metadata": {
  "kernelspec": {
   "display_name": "Python 3 (ipykernel)",
   "language": "python",
   "name": "python3"
  },
  "language_info": {
   "codemirror_mode": {
    "name": "ipython",
    "version": 3
   },
   "file_extension": ".py",
   "mimetype": "text/x-python",
   "name": "python",
   "nbconvert_exporter": "python",
   "pygments_lexer": "ipython3",
   "version": "3.11.5"
  }
 },
 "nbformat": 4,
 "nbformat_minor": 5
}
