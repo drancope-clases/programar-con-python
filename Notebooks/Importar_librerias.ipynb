{
 "cells": [
  {
   "cell_type": "markdown",
   "id": "76052803",
   "metadata": {},
   "source": [
    "# Corrigiendo importaciones\n",
    "### Hay que darse cuenta del error:"
   ]
  },
  {
   "cell_type": "code",
   "execution_count": 1,
   "id": "f3b2030b",
   "metadata": {
    "scrolled": true
   },
   "outputs": [
    {
     "ename": "NameError",
     "evalue": "name 'np' is not defined",
     "output_type": "error",
     "traceback": [
      "\u001b[0;31m---------------------------------------------------------------------------\u001b[0m",
      "\u001b[0;31mNameError\u001b[0m                                 Traceback (most recent call last)",
      "Input \u001b[0;32mIn [1]\u001b[0m, in \u001b[0;36m<cell line: 1>\u001b[0;34m()\u001b[0m\n\u001b[0;32m----> 1\u001b[0m \u001b[43mnp\u001b[49m\u001b[38;5;241m.\u001b[39mpi\n",
      "\u001b[0;31mNameError\u001b[0m: name 'np' is not defined"
     ]
    }
   ],
   "source": [
    "np.pi"
   ]
  },
  {
   "cell_type": "markdown",
   "id": "a881005e",
   "metadata": {},
   "source": [
    "Este mensaje nos dice que **np** *no existe (todavía)*.\n",
    "\n",
    "La función **pi** está dentro de la biblioteca de funciones **numpy**. Hay que cargarla en la memoria, con la instrucción **import**.\n",
    "\n",
    "Lo normal es hacerlo *antes* de esa celda que da error. Normalmente, la hemos escrito en una celda de arriba, pero para que *exista* hoy, **hay que ejecutar la celda** con Ctrol+Enter.\n",
    "\n",
    "## Hay varias maneras de importar:\n",
    "**- usar solo el nombre de la biblioteca**"
   ]
  },
  {
   "cell_type": "code",
   "execution_count": null,
   "id": "77820257",
   "metadata": {},
   "outputs": [],
   "source": [
    "import numpy"
   ]
  },
  {
   "cell_type": "markdown",
   "id": "0f66790d",
   "metadata": {},
   "source": [
    "Con este método, podemos usar todas las funciones de la biblioteca, pero escribiendo antes **numpy.**"
   ]
  },
  {
   "cell_type": "code",
   "execution_count": null,
   "id": "1c66c2ba",
   "metadata": {},
   "outputs": [],
   "source": [
    "numpy.pi"
   ]
  },
  {
   "cell_type": "markdown",
   "id": "6a4a809f",
   "metadata": {},
   "source": [
    "No funcionaría ni poner solamente el nombre de la función, ni usar una abreviatura *-alias-* como **np**."
   ]
  },
  {
   "cell_type": "code",
   "execution_count": null,
   "id": "af90bc38",
   "metadata": {},
   "outputs": [],
   "source": [
    "pi"
   ]
  },
  {
   "cell_type": "code",
   "execution_count": null,
   "id": "7dec71ca",
   "metadata": {
    "scrolled": false
   },
   "outputs": [],
   "source": [
    "np.py"
   ]
  },
  {
   "cell_type": "markdown",
   "id": "72258c7a",
   "metadata": {},
   "source": [
    "__- usar__ ___from___"
   ]
  },
  {
   "cell_type": "code",
   "execution_count": null,
   "id": "022a16f6",
   "metadata": {},
   "outputs": [],
   "source": [
    "from numpy import *"
   ]
  },
  {
   "cell_type": "markdown",
   "id": "5fa9469a",
   "metadata": {},
   "source": [
    "De esta forma podemos usar todas las funciones y atributos de *numpy* sin escribir numpy. antes.\n",
    "\n",
    "Esto puede dar algún problema, si usamos dos bibliotecas que tengan dentro una función con el mismo nombre."
   ]
  },
  {
   "cell_type": "code",
   "execution_count": null,
   "id": "47255fcc",
   "metadata": {},
   "outputs": [],
   "source": [
    "pi"
   ]
  },
  {
   "cell_type": "markdown",
   "id": "9bbfbadd",
   "metadata": {},
   "source": [
    "**- Usar un alias**"
   ]
  },
  {
   "cell_type": "code",
   "execution_count": null,
   "id": "238f695f",
   "metadata": {},
   "outputs": [],
   "source": [
    "import numpy as np"
   ]
  },
  {
   "cell_type": "markdown",
   "id": "c4eb5790",
   "metadata": {},
   "source": [
    "Es útil para usar *np* como abreviatura, y facilitar la escritura de código, sin correr riesgo de no saber de qué biblioteca era una función."
   ]
  },
  {
   "cell_type": "code",
   "execution_count": null,
   "id": "420c732e",
   "metadata": {},
   "outputs": [],
   "source": [
    "np.pi"
   ]
  },
  {
   "cell_type": "markdown",
   "id": "b3301f56",
   "metadata": {},
   "source": [
    "**- importar solamente algunos fragmentos de la biblioteca:**"
   ]
  },
  {
   "cell_type": "code",
   "execution_count": null,
   "id": "eab0d4e1",
   "metadata": {},
   "outputs": [],
   "source": [
    "from numpy import sin, cos, linspace"
   ]
  },
  {
   "cell_type": "code",
   "execution_count": null,
   "id": "8f146a64",
   "metadata": {},
   "outputs": [],
   "source": [
    "sin(0.5)"
   ]
  },
  {
   "cell_type": "markdown",
   "id": "9bd8c0e1",
   "metadata": {},
   "source": [
    "Esto permite usar las tres funciones cargadas sin poner delante el nombre o el *alias* de la biblioteca.\n",
    "\n",
    "En esta variante también podemos utilizar un alias, para adjudicárselo a un subconjunto de la biblioteca, cuando existen estos subconjuntos. Por ejemplo, la biblioteca **matplotlib** tiene un subconjunto de varias funciones dentro de **pyplot**, y podemos cargar solamente esa parte adjudicándole un *alias*:"
   ]
  },
  {
   "cell_type": "code",
   "execution_count": null,
   "id": "0688a669",
   "metadata": {},
   "outputs": [],
   "source": [
    "from matplotlib import pyplot as plt"
   ]
  },
  {
   "cell_type": "markdown",
   "id": "e61b7c59",
   "metadata": {},
   "source": [
    "Esto anterior también se puede escribir así:"
   ]
  },
  {
   "cell_type": "code",
   "execution_count": null,
   "id": "f2973b53",
   "metadata": {},
   "outputs": [],
   "source": [
    "import matplotlib.pyplot as plt"
   ]
  },
  {
   "cell_type": "code",
   "execution_count": null,
   "id": "b8be7e13",
   "metadata": {},
   "outputs": [],
   "source": [
    "plt.plot([3, 4], [1, 2])"
   ]
  },
  {
   "cell_type": "markdown",
   "id": "460dc300",
   "metadata": {},
   "source": [
    "### Recordad que el orden de ejecución de las celdas es importante, y cada día, al abrir el *notebook*, están todas las celdas sin ejecutar.\n",
    "\n",
    "### Si ejecuto primero la celda de aquí arriba sin haber ejecutado antes la anterior, habrá error.\n",
    "\n",
    "### Si reinicio el *kernel* de python, es empezar de nuevo, todas las celdas están sin ejecutar."
   ]
  },
  {
   "cell_type": "markdown",
   "id": "c0390e8e",
   "metadata": {},
   "source": [
    "# Ejercicios:\n",
    "\n",
    "Importa todas las funciones de ipywidgets, sin poner alias, pero **que se puedan usar todas sin escribir *ipywidgets.* antes del nombre de la función**."
   ]
  },
  {
   "cell_type": "code",
   "execution_count": null,
   "id": "c46ed0d6",
   "metadata": {},
   "outputs": [],
   "source": [
    "# continúa escribiendo debajo:\n",
    "from "
   ]
  },
  {
   "cell_type": "markdown",
   "id": "b3a3b3d6",
   "metadata": {},
   "source": [
    "importa la función *display* de la sub-biblioteca display de la biblioteca IPython"
   ]
  },
  {
   "cell_type": "code",
   "execution_count": null,
   "id": "a3d0dd9f",
   "metadata": {},
   "outputs": [],
   "source": []
  },
  {
   "cell_type": "markdown",
   "id": "63812cd4",
   "metadata": {},
   "source": [
    "Si todo ha funcionado bien, la siguiente celda no dará errores y mostrará un selector y un botón que dará un mensaje al pulsarlo:"
   ]
  },
  {
   "cell_type": "code",
   "execution_count": null,
   "id": "339c5750",
   "metadata": {
    "scrolled": true
   },
   "outputs": [],
   "source": [
    "respuesta = RadioButtons(options=[['Resuelto a la primera o casi', 1], ['He necesitado ayuda', 2]])\n",
    "boton = Button(description='Check')\n",
    "def comprobar(b):\n",
    "        a = (respuesta.value)\n",
    "        if a==1:\n",
    "            s = 'Enhorabuena: la práctica finalmente nos hace aprender'\n",
    "        else:\n",
    "            s = 'Es normal tener que corregir errores. Se aprende con ellos.'\n",
    "        print(s)\n",
    "        return\n",
    "\n",
    "display(respuesta, boton)\n",
    "boton.on_click(comprobar)"
   ]
  },
  {
   "cell_type": "markdown",
   "id": "165a8555",
   "metadata": {},
   "source": [
    "# Cuestionario:\n",
    "Ejecuta la siguiente celda y ve completando:"
   ]
  },
  {
   "cell_type": "code",
   "execution_count": null,
   "id": "120ed8f9",
   "metadata": {},
   "outputs": [],
   "source": [
    "from ipywidgets import *\n",
    "from IPython.display import display\n",
    "#Funciones y variables:\n",
    "r=[0,0,0,0,0,0,0,0,0,0]\n",
    "estilo={'description_width': '405px', 'height': '80px'}\n",
    "cabecera = HTML('<h1>Resuelve las preguntas:</h1>')\n",
    "d=[ VBox([Label('Una biblioteca se carga con la instrucción...  '),\n",
    "    RadioButtons(options=[['charge',1],['load',2],['import o from ... import',3]])]),\n",
    "    Button(description=\"comprobar\"),\n",
    "    widgets.Output(),\n",
    "    HBox([Label('Elige el nombre correcto de la librería de dibujar funciones: '),Dropdown(options=[['matpoltib',1],['matplotlib',2],['natplotlib',3]],description='')]),\n",
    "    Button(description=\"comprobar\"),\n",
    "    widgets.Output()\n",
    "  ]\n",
    "\n",
    "def on_value_change1(p):\n",
    "    r[0]=d[0].children[1].value\n",
    "def on_value_change2(p):\n",
    "    r[1]=d[3].children[1].value\n",
    "    \n",
    "feedback_out1 = d[2]\n",
    "feedback_out2 = d[5]\n",
    "\n",
    "def check1(b):\n",
    "    if d[0].children[1].value == r[0]:\n",
    "        s = '\\x1b[6;30;42m' + \" Correcto \" + '\\x1b[0m' +\"\\n\" #green color\n",
    "    else:\n",
    "        s = '\\x1b[5;30;41m' + \"Incorrecto\" + '\\x1b[0m' +\"\\n\" #red color\n",
    "    with feedback_out1:\n",
    "        clear_output()\n",
    "        print(s)\n",
    "    return\n",
    "\n",
    "def check2(b):\n",
    "    if d[3].children[1].value == r[1]:\n",
    "        s = '\\x1b[6;30;42m' + \" Correcto \" + '\\x1b[0m' +\"\\n\" #green color\n",
    "    else:\n",
    "        s = '\\x1b[5;30;41m' + \"Incorrecto\" + '\\x1b[0m' +\"\\n\" #red color\n",
    "    with feedback_out2:\n",
    "        clear_output()\n",
    "        print(s)\n",
    "    return\n",
    "\n",
    "from IPython.display import clear_output\n",
    "import sys\n",
    "\n",
    "d[0].children[1].observe(on_value_change1, names=['name','value'])\n",
    "d[3].children[1].observe(on_value_change2, names=['name','value'])\n",
    "d[1].on_click(check1)\n",
    "d[4].on_click(check2)\n",
    "\n",
    "def create_multipleChoice_widget(description, options, correct_answer):\n",
    "    if correct_answer not in options:\n",
    "        options.append(correct_answer)\n",
    "    \n",
    "    correct_answer_index = options.index(correct_answer)\n",
    "    a = len(options)\n",
    "    radio_options = [(words, i) for i, words in enumerate(options)]\n",
    "    alternativ = widgets.RadioButtons(\n",
    "        options = radio_options,\n",
    "        description = '', width='600px', description_width='500px',\n",
    "        disabled = False\n",
    "    )\n",
    "    description_out = widgets.Output()\n",
    "    with description_out:\n",
    "        print(description)\n",
    "        \n",
    "    feedback_out = widgets.Output()\n",
    "\n",
    "    def check_selection(b):\n",
    "        a = int(alternativ.value)\n",
    "        if a==correct_answer_index:\n",
    "            s = '\\x1b[6;30;42m' + \" Correcto \" + '\\x1b[0m' +\"\\n\" #green color\n",
    "        else:\n",
    "            s = '\\x1b[5;30;41m' + \"Incorrecto\" + '\\x1b[0m' +\"\\n\" #red color\n",
    "        with feedback_out:\n",
    "            clear_output()\n",
    "            print(s)\n",
    "        return\n",
    "    \n",
    "    check = widgets.Button(description=\"comprobar\")\n",
    "    check.on_click(check_selection)\n",
    "    \n",
    "    \n",
    "    return widgets.VBox([description_out, alternativ, check, feedback_out])\n",
    "\n",
    "Q1 = create_multipleChoice_widget('Indica qué es \"cargar\" una librería',['Pasar un archivo de funciones al kernel','Usar la instrucción import para no usar un alias','Usar la instrucción from para usar un alias'],'Pasar un archivo de funciones al kernel')\n",
    "Q2 = create_multipleChoice_widget('Una de estas instrucciones es incorrecta',['import ipywidgets as widgets','import ipywidgets from *','from ipywidgets import Button'],'import ipywidgets from *')\n",
    "Q3 = create_multipleChoice_widget('Sólo una de estas librerías está bien escrita',['import','numpi','matplotlib'],'matplotlib')\n",
    "\n",
    "container = VBox(d)\n",
    "display(cabecera)\n",
    "display(container)\n",
    "display(Q1,Q2,Q3)"
   ]
  }
 ],
 "metadata": {
  "celltoolbar": "Tags",
  "kernelspec": {
   "display_name": "Python 3 (ipykernel)",
   "language": "python",
   "name": "python3"
  },
  "language_info": {
   "codemirror_mode": {
    "name": "ipython",
    "version": 3
   },
   "file_extension": ".py",
   "mimetype": "text/x-python",
   "name": "python",
   "nbconvert_exporter": "python",
   "pygments_lexer": "ipython3",
   "version": "3.9.15"
  }
 },
 "nbformat": 4,
 "nbformat_minor": 5
}
