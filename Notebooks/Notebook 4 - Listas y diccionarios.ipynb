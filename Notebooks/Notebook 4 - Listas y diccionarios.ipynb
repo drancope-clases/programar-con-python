{
 "cells": [
  {
   "cell_type": "markdown",
   "metadata": {},
   "source": [
    "## Tarea:\n",
    "- **Lee las celdas de texto, y ejecuta las celdas en las que hay código.** La idea principal es entender lo que lees y lo que se ha preparado como ejemplo.\n",
    "- **En las celdas vacías de código, debes completar el ejercicio propuesto.**\n",
    "- **Al terminar, escribe tu nombre aquí, debajo de esta celda.**\n",
    "- **Guarda el documento.** (botón del disco flexible o menú *file*) **\n",
    "- **Agrega el documento en la tarea de Moodle**."
   ]
  },
  {
   "cell_type": "markdown",
   "metadata": {},
   "source": [
    "**Alumno/a:**\n",
    "\n",
    "___________________________________________________"
   ]
  },
  {
   "cell_type": "markdown",
   "metadata": {
    "id": "C0_7EXdLBfri"
   },
   "source": [
    "Este Notebook ha sido tomado del curso básico del Instituto Humai (Argentina)."
   ]
  },
  {
   "cell_type": "markdown",
   "metadata": {
    "id": "Ifx-toaCBfsZ"
   },
   "source": [
    "# Listas <a name=\"section-1\"></a>\n",
    "\n",
    "Las listas son un conjunto de elementos ordenados. Estos elementos pueden ser de cualquier tipo, incluyendo otras listas. Veamos algunas operaciones con ellas."
   ]
  },
  {
   "cell_type": "code",
   "execution_count": null,
   "metadata": {
    "id": "gXok1a7qBfsZ",
    "scrolled": true
   },
   "outputs": [],
   "source": [
    "amigos = ['Mateo', 'Nico', 'Claudia', 'Ernestina', 'Paola']"
   ]
  },
  {
   "cell_type": "markdown",
   "metadata": {
    "id": "0JAJf-CqBfsb"
   },
   "source": [
    "### Indexing y slicing en listas"
   ]
  },
  {
   "cell_type": "markdown",
   "metadata": {
    "id": "nvBKlFCeBfsb"
   },
   "source": [
    "De la misma forma que con los strings en el contexto de la listas generalmente hablamos de **indexación** o acceso por índice a la acción de encontrar un valor según su posición en la lista. \n",
    "\n",
    "Importantísimo (sí, ¡una vez más!): En Python el primer elemento se indexa con el valor 0. Es decir, si queremos el primer valor de una lista tenemos que llamar a la posición 0."
   ]
  },
  {
   "cell_type": "code",
   "execution_count": null,
   "metadata": {
    "id": "HVKIARRgBfsb"
   },
   "outputs": [],
   "source": [
    "amigos[0]"
   ]
  },
  {
   "cell_type": "markdown",
   "metadata": {
    "id": "Jt7e1NsQBfsc"
   },
   "source": [
    "Además, el último elemento se indexa como -1, el siguiente -2 y así sucesivamente. Entonces para acceder al último elemento:"
   ]
  },
  {
   "cell_type": "code",
   "execution_count": null,
   "metadata": {
    "id": "2RcwSVoHBfsc"
   },
   "outputs": [],
   "source": [
    "amigos[-1]"
   ]
  },
  {
   "cell_type": "markdown",
   "metadata": {
    "id": "-537x5KiBfsc"
   },
   "source": [
    "Además, podemos acceder a varios elementos en simultáneo, usando el **slicing** de la misma manera que con strings.\n",
    "\n",
    "El slicing aplicado a una lista nos devuelve una **lista**.\n",
    "\n",
    "Veamos algunos ejemplos:"
   ]
  },
  {
   "cell_type": "code",
   "execution_count": null,
   "metadata": {
    "id": "FJXGLNPSBfsd"
   },
   "outputs": [],
   "source": [
    "amigos[:] # arranco en 0 hasta el final, con el paso default (1)"
   ]
  },
  {
   "cell_type": "code",
   "execution_count": null,
   "metadata": {
    "id": "rok7yRMgBfsd"
   },
   "outputs": [],
   "source": [
    "amigos[:1] # arranco en 0 y el primero sin incluir es el 1, con el paso default (1)"
   ]
  },
  {
   "cell_type": "code",
   "execution_count": null,
   "metadata": {
    "id": "Dc_NRwbQBfse"
   },
   "outputs": [],
   "source": [
    "amigos[:-1] # excluímos el último elemento"
   ]
  },
  {
   "cell_type": "code",
   "execution_count": null,
   "metadata": {
    "id": "G2wHKcFUBfse"
   },
   "outputs": [],
   "source": [
    "amigos[::2] # salteamos un elemento a la vez"
   ]
  },
  {
   "cell_type": "markdown",
   "metadata": {
    "id": "34je_cPCBfse"
   },
   "source": [
    "Ejercicios:\n",
    "\n",
    "1- ¿Es el resultado de amigos[:1] igual al de acceder directamente a la primera posición? \n",
    "\n",
    "2- Recorrer la lista de elementos de atrás para adelante.\n",
    "\n",
    "3- Seleccionar del 3er elemento al 4to elemento."
   ]
  },
  {
   "cell_type": "markdown",
   "metadata": {
    "id": "-O9khv0ZBfse"
   },
   "source": [
    "### Otras operaciones y métodos"
   ]
  },
  {
   "cell_type": "markdown",
   "metadata": {
    "id": "l5bqdlQ5Bfse"
   },
   "source": [
    "Agregar un nuevo elemento:"
   ]
  },
  {
   "cell_type": "code",
   "execution_count": null,
   "metadata": {
    "id": "XWOaiK63Bfsf"
   },
   "outputs": [],
   "source": [
    "amigos.append('Chicharito')\n",
    "print(amigos)\n",
    "\n",
    "amigos = amigos + ['Chicharito']\n",
    "\n",
    "x = 10\n",
    "\n",
    "x = x + 3\n",
    "\n",
    "x"
   ]
  },
  {
   "cell_type": "markdown",
   "metadata": {
    "id": "zZU8Xao5Bfsg"
   },
   "source": [
    "Sumamos otra lista:"
   ]
  },
  {
   "cell_type": "code",
   "execution_count": null,
   "metadata": {
    "id": "AkveZfW9Bfsi"
   },
   "outputs": [],
   "source": [
    "amigos = amigos + ['Pipi', 'Toto']\n",
    "print(amigos) "
   ]
  },
  {
   "cell_type": "markdown",
   "metadata": {
    "id": "3INZtsqYBfsj"
   },
   "source": [
    "Unir una lista con un separador dado:"
   ]
  },
  {
   "cell_type": "code",
   "execution_count": null,
   "metadata": {
    "id": "TP1iknqyBfsk"
   },
   "outputs": [],
   "source": [
    "ejemplo = ['valor1', 'valor2', 'valor3']\n",
    "';'.join(ejemplo)"
   ]
  },
  {
   "cell_type": "markdown",
   "metadata": {
    "id": "b7IG1gm7Bfsk"
   },
   "source": [
    "El ejercicio 1 se podría haber resuelto usando .join así:"
   ]
  },
  {
   "cell_type": "code",
   "execution_count": null,
   "metadata": {
    "id": "OhCy7zX5Bfsk"
   },
   "outputs": [],
   "source": [
    "\" \".join([\"hola\", \"qué tal\"])"
   ]
  },
  {
   "cell_type": "markdown",
   "metadata": {
    "id": "FeyHfyeNBfsk"
   },
   "source": [
    "Borrado por valor:"
   ]
  },
  {
   "cell_type": "code",
   "execution_count": null,
   "metadata": {
    "id": "vmgK_8cxBfsl"
   },
   "outputs": [],
   "source": [
    "amigos.remove('Mateo')\n",
    "print(amigos)"
   ]
  },
  {
   "cell_type": "markdown",
   "metadata": {
    "id": "NeZzUKjQBfsl"
   },
   "source": [
    "Borrado por índice:"
   ]
  },
  {
   "cell_type": "code",
   "execution_count": null,
   "metadata": {
    "id": "RQj5ODvyBfsl",
    "scrolled": true
   },
   "outputs": [],
   "source": [
    "del amigos[0]\n",
    "print(amigos)"
   ]
  },
  {
   "cell_type": "markdown",
   "metadata": {
    "id": "ko9JwLCNBfsl"
   },
   "source": [
    "Devuelve un elemento y lo borra de la lista:"
   ]
  },
  {
   "cell_type": "code",
   "execution_count": null,
   "metadata": {
    "id": "MP-bKGAmBfsm"
   },
   "outputs": [],
   "source": [
    "valor = amigos.pop(0)"
   ]
  },
  {
   "cell_type": "code",
   "execution_count": null,
   "metadata": {
    "id": "YrrhUdabBfsm"
   },
   "outputs": [],
   "source": [
    "edades = [30, 40, 38, 30, 37]"
   ]
  },
  {
   "cell_type": "markdown",
   "metadata": {
    "id": "f0fnZYRTBfsm"
   },
   "source": [
    "Cantidad de apariciones:"
   ]
  },
  {
   "cell_type": "code",
   "execution_count": null,
   "metadata": {
    "id": "2ze24P6eBfsm"
   },
   "outputs": [],
   "source": [
    "print(edades.count(30))"
   ]
  },
  {
   "cell_type": "markdown",
   "metadata": {
    "id": "H-8e9uCCBfsn"
   },
   "source": [
    "Largo de la lista:"
   ]
  },
  {
   "cell_type": "code",
   "execution_count": null,
   "metadata": {
    "id": "8hwbBi2MBfsn"
   },
   "outputs": [],
   "source": [
    "print(len(edades))"
   ]
  },
  {
   "cell_type": "markdown",
   "metadata": {
    "id": "zsZmSFIWBfsn"
   },
   "source": [
    "Ordenar la lista:"
   ]
  },
  {
   "cell_type": "code",
   "execution_count": null,
   "metadata": {
    "id": "ABVPHbU4Bfso"
   },
   "outputs": [],
   "source": [
    "sorted(edades)"
   ]
  },
  {
   "cell_type": "markdown",
   "metadata": {
    "id": "VXpN48K1Bfso"
   },
   "source": [
    "Sumar el total:"
   ]
  },
  {
   "cell_type": "code",
   "execution_count": null,
   "metadata": {
    "id": "3R7cQx8GBfso"
   },
   "outputs": [],
   "source": [
    "print(sum(edades))"
   ]
  },
  {
   "cell_type": "markdown",
   "metadata": {
    "id": "gC3DmJnnBfsp"
   },
   "source": [
    "Mínimo:"
   ]
  },
  {
   "cell_type": "code",
   "execution_count": null,
   "metadata": {
    "id": "eN3djY8vBfsp"
   },
   "outputs": [],
   "source": [
    "print(min(edades))"
   ]
  },
  {
   "cell_type": "markdown",
   "metadata": {
    "id": "X9_wJrx_Bfsp"
   },
   "source": [
    "Máximo:"
   ]
  },
  {
   "cell_type": "code",
   "execution_count": null,
   "metadata": {
    "id": "NYFr0iSTBfsq"
   },
   "outputs": [],
   "source": [
    "print(max(edades))"
   ]
  },
  {
   "cell_type": "markdown",
   "metadata": {
    "id": "4JNLL1dFBfsq"
   },
   "source": [
    "Ejercicio: <a name=\"section-7\"></a>\n",
    "\n",
    "1- Calcular el promedio de edad de la lista \"edades\"\n"
   ]
  },
  {
   "cell_type": "code",
   "execution_count": null,
   "metadata": {
    "id": "mKhy96XZBfsq"
   },
   "outputs": [],
   "source": [
    "# Ejercicio 1"
   ]
  },
  {
   "cell_type": "markdown",
   "metadata": {
    "id": "AiiOvkxjBfsr"
   },
   "source": [
    "## Diccionarios <a name=\"section-8\"></a>\n",
    "\n",
    "Los diccionarios consisten en estructuras que contienen pares de una **llave** y un **valor**. Los elementos NO están ordenados, con lo cual no se puede acceder por posición ni slicing.\n",
    "\n",
    "Veamos un ejemplo"
   ]
  },
  {
   "cell_type": "code",
   "execution_count": null,
   "metadata": {
    "id": "HBrK3aTRBfsr"
   },
   "outputs": [],
   "source": [
    "dnis = {'Herrera':32676585, 'Guzmán':9564787, \n",
    "        'Pérez':5676898, 'Hernández':40565999, \n",
    "        'Abraham':28375814,\n",
    "       \"soy_una_llave\":\"soy_un_valor\"} "
   ]
  },
  {
   "cell_type": "markdown",
   "metadata": {
    "id": "Q0jTWATWBfss"
   },
   "source": [
    "Sin embargo, sí podemos acceder a un elemento por su llave. Accedemos al valor de \"Abraham\""
   ]
  },
  {
   "cell_type": "code",
   "execution_count": null,
   "metadata": {
    "id": "2aW4qHE8Bfss"
   },
   "outputs": [],
   "source": [
    "dnis['Abraham'] # noten que se usa la misma notación que con las listas"
   ]
  },
  {
   "cell_type": "markdown",
   "metadata": {
    "id": "5qjMEFAzBfst"
   },
   "source": [
    "¿Qué pasa si tratamos un diccionario como una lista?"
   ]
  },
  {
   "cell_type": "code",
   "execution_count": null,
   "metadata": {
    "id": "hMHFRMKUBfst"
   },
   "outputs": [],
   "source": [
    "dnis[0]"
   ]
  },
  {
   "cell_type": "markdown",
   "metadata": {
    "id": "xzpHGKYpBfsu"
   },
   "source": [
    "Tenemos un error, tratemos de interpretarlo: KeyError se refierre a que no existe una llave (Key) a la que se trató de acceder. En este caso la llave que se trató de acceder es 0."
   ]
  },
  {
   "cell_type": "markdown",
   "metadata": {
    "id": "IBE7KP5dBfsu"
   },
   "source": [
    "Podemos ver todas las llaves:"
   ]
  },
  {
   "cell_type": "code",
   "execution_count": null,
   "metadata": {
    "id": "WIgit8XABfsv"
   },
   "outputs": [],
   "source": [
    "dnis.keys()"
   ]
  },
  {
   "cell_type": "markdown",
   "metadata": {
    "id": "WgpFgTmuBfsv"
   },
   "source": [
    "Traer todos los pares de elementos:"
   ]
  },
  {
   "cell_type": "code",
   "execution_count": null,
   "metadata": {
    "id": "WSp837SQBfsv"
   },
   "outputs": [],
   "source": [
    "dnis.items()"
   ]
  },
  {
   "cell_type": "markdown",
   "metadata": {
    "id": "eVCuzJumBfsw"
   },
   "source": [
    "Y utilizar los mismos métodos para borrar y extrar como en las listas:"
   ]
  },
  {
   "cell_type": "code",
   "execution_count": null,
   "metadata": {
    "id": "hve8nViLBfsw"
   },
   "outputs": [],
   "source": [
    "dnis.pop('Herrera')"
   ]
  },
  {
   "cell_type": "markdown",
   "metadata": {
    "id": "zYrRfGQ8Bfsw"
   },
   "source": [
    "Los diccionarios tienen longitud, de la misma forma que las listas y string"
   ]
  },
  {
   "cell_type": "code",
   "execution_count": null,
   "metadata": {
    "id": "a43t00F-Bfsx"
   },
   "outputs": [],
   "source": [
    "len(dnis)"
   ]
  },
  {
   "cell_type": "markdown",
   "metadata": {
    "id": "a6-S8G2wBfsx"
   },
   "source": [
    "## Condicionales <a name=\"section-9\"></a>\n",
    "\n",
    "El condicional tiene la siguiente sintáxis:\n",
    "\n",
    "    if CONDICIÓN:\n",
    "        código1\n",
    "    elif CONDICIÓN2:\n",
    "        código2\n",
    "    else:\n",
    "        código3\n",
    "        \n",
    "Donde la condición es un operador que devuelve un objeto de tipo booleano. La **indentación** del código define qué parte se incluye como condicional.\n",
    "\n",
    "El término \"elif\" viene de \"else if\". La condición sólo se evaluará si la condición del \"if\" no se cumple. "
   ]
  },
  {
   "cell_type": "code",
   "execution_count": null,
   "metadata": {
    "id": "WaF6pWaABfsx"
   },
   "outputs": [],
   "source": [
    "precio_dolar = 62\n",
    "\n",
    "if precio_dolar >= 90:\n",
    "    print(\"El dólar se fue por las nubes\")\n",
    "elif (precio_dolar < 90) and (precio_dolar >= 70):\n",
    "    print(\"El dolar subió\")\n",
    "else: \n",
    "    print(\"El dólar es menor a 70\")\n",
    "\n",
    "print(precio_dolar)"
   ]
  },
  {
   "cell_type": "markdown",
   "metadata": {
    "id": "1L9tOkUYBfsx"
   },
   "source": [
    "## Bucles o Loops\n",
    "\n",
    "Los bucles son un tipo de sentencia donde se realiza el código contenido repetidamente. Existen dos tipos. En el bucle **for**, se **itera** o recorre un conjunto de elementos actuando por cada uno de ellos. En el bucle **while** se itera hasta que se cumple una condiciónn de corte."
   ]
  },
  {
   "cell_type": "markdown",
   "metadata": {
    "id": "Da6OqAzTBfsy"
   },
   "source": [
    "### For loop"
   ]
  },
  {
   "cell_type": "code",
   "execution_count": null,
   "metadata": {
    "id": "FSQpPxjtBfsy"
   },
   "outputs": [],
   "source": [
    "for n in [1,2,'3']:\n",
    "    print(f'EL tipo es {n*2} {type(n*2)}')"
   ]
  },
  {
   "cell_type": "code",
   "execution_count": null,
   "metadata": {
    "id": "K3rO_6-iBfsy"
   },
   "outputs": [],
   "source": [
    "lista = [1,2,3,4,5]\n",
    "\n",
    "for n in lista:\n",
    "    print(n * 2)"
   ]
  },
  {
   "cell_type": "markdown",
   "metadata": {
    "id": "ou8v6wwSBfsy"
   },
   "source": [
    "También agreguemos la función **range** a nuestro repertorio. La función range consta de tres parámetros importante: start, stop, step. Si pasamos un sólo parámetro, estamos pasando el \"stop\" y tomamos 0 como valor default de \"start\". Del mismo modo que cuando vimos listas, el stop no está incluído y el step por default es 1.\n",
    "\n",
    "Veamos cómo funciona:"
   ]
  },
  {
   "cell_type": "code",
   "execution_count": null,
   "metadata": {
    "id": "XkFuyfpeBfsz"
   },
   "outputs": [],
   "source": [
    "for n in range(5):\n",
    "    print(n)"
   ]
  },
  {
   "cell_type": "markdown",
   "metadata": {
    "id": "Ch1kSXNeBfsz"
   },
   "source": [
    "Si pasamos dos parámetros, estamos pasando el start y el stop, el primer valor es el \"start\" y el segundo el \"stop\"."
   ]
  },
  {
   "cell_type": "code",
   "execution_count": null,
   "metadata": {
    "id": "VmW8A2vYBfsz"
   },
   "outputs": [],
   "source": [
    "for n in range(0,5):\n",
    "    print(n)"
   ]
  },
  {
   "cell_type": "markdown",
   "metadata": {
    "id": "KPQo-7w6Bfs0"
   },
   "source": [
    "Noten que el valor de start se incluye y el de stop no:"
   ]
  },
  {
   "cell_type": "code",
   "execution_count": null,
   "metadata": {
    "id": "etkiRO9yBfs0"
   },
   "outputs": [],
   "source": [
    "for n in range(1, 6): # esto nos da el mismo resultado que un par de celdas más arriba\n",
    "    print(n * 2)"
   ]
  },
  {
   "cell_type": "markdown",
   "metadata": {
    "id": "WWde5IumBfs0"
   },
   "source": [
    "Por último, el tercer parámetro es el step..."
   ]
  },
  {
   "cell_type": "markdown",
   "metadata": {
    "id": "Du0KFFD8Bfs0"
   },
   "source": [
    "Ejercicios combinando lo visto hasta el momento:\n",
    "\n",
    "1- Imprimir los valores de 1 a 50, salteando de a un valor por vez...\n",
    "\n",
    "2- Dada la siguiente lista: medios = [\"cheques\", \"bonos\", \"acciones\", 1000, \"transferencia\"]. Acceder al 2do elemento, y luego al 3er elemento (de ese 2do elemento) y responder qué devulve.\n",
    "\n",
    "3- De manera similar, ahora accedan al 4to elemento, y luego al 3er elemento de éste, ¿qué ocurre?\n",
    "\n",
    "4- Agreguen una lista vacía al final de esa lista.\n",
    "\n",
    "5- Recorran *medios* (iteren) y si el tipo del elemento es string, hagan un print de su primer elemento, si es int (entero) pásenlo a string y hagan un print de su primer elemento y si no es nada de eso hagan un print que diga \"Es otro tipo\". Tip1: para pasar un elemento a tipo string pueden usar la función str(variable), donde variable es el elemento que quieren transformar. Tip2: para arrancar este ejercicio pueden copiar lo siguiente:"
   ]
  },
  {
   "cell_type": "code",
   "execution_count": null,
   "metadata": {
    "id": "gncnNmpkBfs1"
   },
   "outputs": [],
   "source": [
    "for medio in medios:\n",
    "    pass # pass no hace nada, sólo pasa sin ejecutar nada... Reemplácenlo y completen con las condiciones."
   ]
  },
  {
   "cell_type": "markdown",
   "metadata": {
    "id": "VnLIWz_ABfs1"
   },
   "source": [
    "### While loop"
   ]
  },
  {
   "cell_type": "markdown",
   "metadata": {
    "id": "XTTR38VHBfs1"
   },
   "source": [
    "Los bucles **while** se definen con una condición, y el código contenido se ejecuta mientras la misma evalue como True. Es importante definir correctamente cuándo la condición pasa de True a False, si no lo hacemos podemos dejar corriendo un programa infinitamente sin que corte. Si eso llega a suceder tienen un botón de stop arriba en la notebook."
   ]
  },
  {
   "cell_type": "code",
   "execution_count": null,
   "metadata": {
    "id": "LO10ZcaHBfs1"
   },
   "outputs": [],
   "source": [
    "contador = 0\n",
    "\n",
    "while contador < 20:\n",
    "    contador += 1 # esto equivale a count = count + 1\n",
    "    print(contador)"
   ]
  },
  {
   "cell_type": "markdown",
   "metadata": {
    "id": "7QDKgzXwBfs2"
   },
   "source": [
    "---\n",
    "\n",
    "## Recursos y tips\n",
    "\n",
    "\n",
    "- [Google!](https://google.com)\n",
    "- [StackOverflow](https://stackoverflow.com)\n",
    "- [Google Colab](https://colab.research.google.com)\n",
    "- [Slicing](https://python-reference.readthedocs.io/en/latest/docs/brackets/slicing.html)\n",
    "--- \n",
    "\n",
    "## Tips en la práctica\n",
    "\n",
    "- Ver _docstring_ con Shift + TAB o help()\n",
    "- Leer Errores\n",
    "- Print"
   ]
  },
  {
   "cell_type": "code",
   "execution_count": null,
   "metadata": {
    "id": "rW95VMRmBfs2"
   },
   "outputs": [],
   "source": []
  }
 ],
 "metadata": {
  "colab": {
   "name": "tipos-datos.ipynb",
   "provenance": []
  },
  "kernelspec": {
   "display_name": "Python 3",
   "language": "python",
   "name": "python3"
  },
  "language_info": {
   "codemirror_mode": {
    "name": "ipython",
    "version": 3
   },
   "file_extension": ".py",
   "mimetype": "text/x-python",
   "name": "python",
   "nbconvert_exporter": "python",
   "pygments_lexer": "ipython3",
   "version": "3.11.5"
  }
 },
 "nbformat": 4,
 "nbformat_minor": 1
}
