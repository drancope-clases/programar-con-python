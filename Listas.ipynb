{
 "cells": [
  {
   "cell_type": "markdown",
   "id": "cd7f25f3",
   "metadata": {},
   "source": [
    "# Listas, tuplas y diccionarios\n",
    "\n",
    "## Listas\n",
    "\n",
    "Una **lista** es una variable que contiene varios datos, de manera ordenada.\n",
    "\n",
    "    colores = [\"rojo\", \"azul\", \"verde\", \"blanco\", \"naranja\", \"morado\", \"amarillo\"]\n",
    "\n",
    "Para acceder a un elemento dentro de la lista, se usa la siguiente notación:\n",
    "\n",
    "    print(colores[5])\n",
    "    \n",
    "El primer elemento de la lista es el número 0, de modo que en nuestra lista de 7 elementos, el último será el número 6, y si intentamos imprimir el elemento colores\\[7\\] tendremos un error.\n",
    "\n",
    "En las listas, podemos editar los contenidos según sea necesario:\n",
    "\n",
    "    colores[5] = \"negro\"\n",
    "\n",
    "#### Ejercicio 1\n",
    "\n",
    "Crea una lista con los días de la semana. Una vez creada la lista, imprime el primer día de la semana, utilizando el nombre de la lista seguido de los corchetes con el índice numérico adecuado:"
   ]
  },
  {
   "cell_type": "code",
   "execution_count": 1,
   "id": "5f367f47",
   "metadata": {},
   "outputs": [],
   "source": [
    "dias = [\"lunes\", \"martes\"                       ]"
   ]
  },
  {
   "cell_type": "code",
   "execution_count": 2,
   "id": "f54d7b71",
   "metadata": {},
   "outputs": [
    {
     "name": "stdout",
     "output_type": "stream",
     "text": [
      "['lunes', 'martes']\n"
     ]
    }
   ],
   "source": [
    "print(dias)"
   ]
  },
  {
   "cell_type": "markdown",
   "id": "c947e986",
   "metadata": {},
   "source": [
    "### Recorrer una lista con *for*\n",
    "\n",
    "En los bucles *for*, podemos usar range(n), como hasta ahora. Tendremos que tener cuidado, porque según sea de larga la lista, el número dentro del rango será uno u otro.\n",
    "    \n",
    "    habitaciones = ['comedor', 'cocina']\n",
    "    for i in range(2):\n",
    "        print(habitaciones[i])\n",
    "\n",
    "resultado:\n",
    "    \n",
    "    comedor\n",
    "    cocina\n",
    "\n",
    "En primer ejemplo, aunque el rango usa el número 2, los valores de i serán 0 y 1. Es decir, cuenta dos posiciones a partir del cero, que es el primer elemento de la lista. En el siguiente, con el rango 4, los valores serán 0, 1, 2 y 3.\n",
    "\n",
    "    habitaciones = ['comedor', 'cocina', 'dormitorio', 'baño']\n",
    "    for i in range(4):\n",
    "        print(habitaciones[i])\n",
    "\n",
    "resultado:\n",
    "    \n",
    "    comedor\n",
    "    cocina\n",
    "    dormitorio\n",
    "    baño\n",
    "\n",
    "Evidentemente, es incómodo tener que cambiar el rango a mano cuando ponemos o quitamos elementos de la lista. Pero también podemos usar la i para que tome un valor de la lista directamente, en lugar del número de índice:\n",
    "    \n",
    "    for i in habitaciones:\n",
    "        print(i)\n",
    "\n",
    "Esto es más corto, más fácil, pero no nos permite hacer cambios de manera ordenada usando un índice numérico.\n",
    "\n",
    "#### Ejercicio 2\n",
    "\n",
    "Escribir un programa que almacene las asignaturas de un curso (por ejemplo Matemáticas, Física, Química, Historia y Lengua) en una lista y la muestre por pantalla el mensaje Yo estudio <asignatura>, donde <asignatura> es cada una de las asignaturas de la lista.\n",
    "    \n",
    "Será necesario emplear un bucle. El más cómodo será el bucle *for*."
   ]
  },
  {
   "cell_type": "code",
   "execution_count": null,
   "id": "073403f7",
   "metadata": {},
   "outputs": [],
   "source": [
    "asignaturas = ['Matemáticas', '',     ]\n",
    "# for i in ...\n"
   ]
  },
  {
   "cell_type": "markdown",
   "id": "c0723e7d",
   "metadata": {},
   "source": [
    "### Cambiar elementos de las listas\n",
    "\n",
    "En el primer ejercicio hicimos una lista de días. El primer elemento de *dias* es \"lunes\". Podemos cambiar manualmente todos los elementos para que la semana empiece por domingo:\n",
    "\n",
    "    dias[0] = \"domingo\"\n",
    "    dias[1] = \"lunes\"\n",
    "    ...etc...\n",
    "\n",
    "Pero esto es tan laborioso que nos costaría menos esfuerzo crear la lista de nuevo:\n",
    "\n",
    "    dias = [\"domingo\", \"lunes\", ... etc]\n",
    "    \n",
    "Sin embargo, es frecuente que estos cambios se tengan que hacer de manera autónoma mediante bucles en un programa. Para ello, comprueba el siguiente ejemplo:\n",
    "\n",
    "    lista = [\"Uno\", \"Dos\", \"Tres\", \"cuatro\"]\n",
    "    primero = lista[0]\n",
    "    for i in range(4):\n",
    "         if i == 3:\n",
    "             lista[i] = primero\n",
    "         else:\n",
    "             lista[i] = lista[i+1]\n",
    "             \n",
    "    print(lista)\n",
    "\n",
    "Copia este ejemplo en una celda aquí debajo, y comprueba el funcionamiento:\n"
   ]
  },
  {
   "cell_type": "code",
   "execution_count": null,
   "id": "b7521317",
   "metadata": {},
   "outputs": [],
   "source": [
    "# Copia aquí el programa de intercambio de números y ejecútalo\n"
   ]
  },
  {
   "cell_type": "markdown",
   "id": "2d7f9b37",
   "metadata": {},
   "source": [
    "### Índices negativos\n",
    "\n",
    "Los índices de las listas pueden ponerse con signo negativo. Con ello, se puede recorrer la lista desde el final hacia el principio:\n",
    "\n",
    "    lista = [\"Uno\", \"Dos\", \"Tres\"]\n",
    "    print(lista[-1])\n",
    "    \n",
    "    Tres\n",
    "\n",
    "#### Ejercicio 3\n",
    "\n",
    "Haz un bucle *for* para imprimir la lista desde el final hacia el principio:"
   ]
  },
  {
   "cell_type": "code",
   "execution_count": null,
   "id": "d4db0d98",
   "metadata": {},
   "outputs": [],
   "source": [
    "lista = [\"Uno\", \"Dos\", \"Tres\"]\n",
    "# for i in range... "
   ]
  },
  {
   "cell_type": "markdown",
   "id": "a0d74cde",
   "metadata": {},
   "source": [
    "#### Ejercicio 4\n",
    "\n",
    "Este ejercicio es más complicado. Se trata de hacer algo parecido al ejemplo de cambiar el cuatro por el uno, pero en lugar de moverse todos los números hacia la derecha, ahora queremos hacerlo hacia la izquierda. \n",
    "\n",
    "Tu tarea ahora será modificar la lista **dias** para que el primer elemento sea el domingo, y vayan todos en el orden correcto. Es decir, al final el resultado será:\n",
    "\n",
    "    ['domingo', 'lunes', 'martes', 'miércoles', 'jueves', 'viernes', 'sábado']\n",
    "    \n",
    "Por supuesto, debe hacerse con un bucle *for*, y será conveniente usar índices negativos."
   ]
  },
  {
   "cell_type": "code",
   "execution_count": 1,
   "id": "df1baec8",
   "metadata": {},
   "outputs": [],
   "source": [
    "dias = ['lunes', 'martes', ]\n",
    "# Continúa aquí:\n"
   ]
  },
  {
   "cell_type": "markdown",
   "id": "8a3cba33",
   "metadata": {},
   "source": [
    "#### Ejercicio 5\n",
    "\n",
    "Escriba un programa que permita crear una lista de palabras. Para ello, el programa tiene que pedir un número y luego solicitar ese número de palabras para crear la lista. Por último, el programa tiene que escribir la lista.\n",
    "Tendrá que utilizarse una instrucción ***input()*** para almacenar el tamaño de la lista en una variable, y a continuación un bucle ***for*** para ir pidiendo y guardando las palabras.\n",
    "Si el usuario introduce el número 0, habrá que mostrar un mensaje de error."
   ]
  },
  {
   "cell_type": "code",
   "execution_count": null,
   "id": "24b85a4c",
   "metadata": {},
   "outputs": [],
   "source": [
    "# paso 1: guardar el tamaño de lista en una variable."
   ]
  },
  {
   "cell_type": "markdown",
   "id": "4884590b",
   "metadata": {},
   "source": [
    "## Tuplas\n",
    "\n",
    "Una tupla se parece mucho a una lista, pero una vez que le hemos dado contenido, ya no se puede cambiar. A la hora de crearlos, en lugar de usar corchetes hay que usar paréntesis:\n",
    "\n",
    "    valores = ('uno', 'dos', 'tres')\n",
    "\n",
    "Si intentamos cambiar uno de los números, aparece un error:\n",
    "\n",
    "    valores[2] = 'cuatro'\n",
    "    \n",
    "    ---------------------------------------------------------------------------\n",
    "    TypeError                                 Traceback (most recent call last)\n",
    "    /tmp/ipykernel_13798/2165368019.py in <module>\n",
    "    ----> 1 valores[2] = 'cuatro'\n",
    "\n",
    "    TypeError: 'tuple' object does not support item assignment\n",
    "\n",
    "Una tupla es más util para definir los días de la semana, porque una vez que le hemos puesto los nombres a cada uno, jamás tendremos que hacer que el tercer día, miércoles, contenga la palabra \"jamón\".\n",
    "\n",
    "Cuando un programa necesite una variable que tiene varias variables dentro que siempre tendrán el mismo valor, se usa una tupla en lugar de una lista.\n",
    "\n",
    "Para acceder al contenido de las tuplas, se usa la misma forma que con las listas: el índice se indica entre corchetes.\n",
    "\n",
    "Ejecuta la siguiente celda:"
   ]
  },
  {
   "cell_type": "code",
   "execution_count": null,
   "id": "449d7e1e",
   "metadata": {},
   "outputs": [],
   "source": [
    "valores = ('uno', 'dos', 'tres')\n",
    "print (valores[1])"
   ]
  },
  {
   "cell_type": "markdown",
   "id": "60863a91",
   "metadata": {},
   "source": [
    "## Diccionarios\n",
    "\n",
    "Los diccionarios son listas de datos en parejas. La primera parte de cada pareja es la **clave** (*key*), y la segunda es el **valor** (*value*). Los datos están ordenados, son modificables, y no pueden estar duplicados (es decir, no puede existir dos veces la misma clave dentro de un diccionario.\n",
    "\n",
    "    coche =\t{\n",
    "        \"brand\": \"Ford\",\n",
    "        \"model\": \"Mustang\",\n",
    "        \"year\": 1964\n",
    "    }\n",
    "    print(coche)\n",
    "    \n",
    "Aunque para conseguir extraer los datos de un diccionario podemos usar los índices, igual que con listas y tuplas, la gran ventaja es que en un diccionario podemos usar también la clave:\n",
    "\n",
    "    print(coche['model'])\n",
    "    \n",
    "Esto hace que nuestro programa se lea mejor.\n",
    "\n",
    "## Combinaciones de listas, tuplas y diccionarios\n",
    "\n",
    "Las **listas**, **tupla** y **diccionarios** son una clase de variable de Python que toma el nombre de ***colección***. Además de estos, existe otro tipo, llamado **set**. Cada uno de estos tipos tiene unas características distintas. Las tuplas y listas pueden tener contenidos duplicados Los sets y diccionarios no pueden tener duplicados. Las tuplas y sets no pueden ser modificados después de crearse; los diccionarios y listas sí aceptan cambios. Las listas, tuplas y diccionarios se ordenan con índices; los sets no.\n",
    "\n",
    "Todos ellos pueden tener como contenido a cualquiera de los otros:\n",
    "\n",
    "    model1 = {\n",
    "        \"brand\": \"Ford\",\n",
    "        \"model\": \"Mustang\",\n",
    "        \"year\": 1964,\n",
    "        \"colors\": [\"red\", \"yellow\", \"white\"]\n",
    "    }\n",
    "    model2 = {\n",
    "        \"brand\": \"Pontiac\",\n",
    "        \"model\": \"Trans am\",\n",
    "        \"year\": 1978,\n",
    "        \"colors\": [\"red\", \"black\"]\n",
    "    }\n",
    "    \n",
    "    warehouse = (model1, model2)\n",
    "    \n",
    "    print(warehouse[0]['year']\n",
    "    \n",
    "\n",
    "    \n",
    "    "
   ]
  }
 ],
 "metadata": {
  "kernelspec": {
   "display_name": "Python 3 (ipykernel)",
   "language": "python",
   "name": "python3"
  },
  "language_info": {
   "codemirror_mode": {
    "name": "ipython",
    "version": 3
   },
   "file_extension": ".py",
   "mimetype": "text/x-python",
   "name": "python",
   "nbconvert_exporter": "python",
   "pygments_lexer": "ipython3",
   "version": "3.9.7"
  }
 },
 "nbformat": 4,
 "nbformat_minor": 5
