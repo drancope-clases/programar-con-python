# %%markdown
# Aquí debería haber mucho rollo.
